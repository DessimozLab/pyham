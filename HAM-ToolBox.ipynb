{
 "cells": [
  {
   "cell_type": "markdown",
   "metadata": {
    "deletable": true,
    "editable": true
   },
   "source": [
    "# Welcome to HAM Tool Box !"
   ]
  },
  {
   "cell_type": "markdown",
   "metadata": {
    "deletable": true,
    "editable": true
   },
   "source": [
    "This ipython notebook aims to help you to do your first steps with HAM. \n",
    "\n",
    "We will covered in this tutorial how to: \n",
    "* [set](#set) up an HAM analysis using the different options available.\n",
    "* shows the different [queries](#query) that you can use to fetch information you want.\n",
    "* explore what all ham [objects](#object)  have to offer !\n",
    "*  [compare](#compare) several genomes throught their HOGS.\n",
    "* run hogvis (single hog visualisation)\n",
    "* run treeprofile (species tree with annotated node with evolutionary events)\n",
    "\n"
   ]
  },
  {
   "cell_type": "markdown",
   "metadata": {
    "deletable": true,
    "editable": true
   },
   "source": [
    "<a id='set'></a>\n",
    "## SET-UP THE HAM"
   ]
  },
  {
   "cell_type": "markdown",
   "metadata": {
    "deletable": true,
    "editable": true
   },
   "source": [
    "### Required import"
   ]
  },
  {
   "cell_type": "code",
   "execution_count": 1,
   "metadata": {
    "collapsed": true,
    "deletable": true,
    "editable": true
   },
   "outputs": [],
   "source": [
    "#  This is the HAM package\n",
    "import ham\n",
    "\n",
    "#  OPTIONAL: only if you want to have the logger information printed\n",
    "import logging\n",
    "logging.basicConfig(level=logging.INFO, format=\"%(asctime)s %(name)-12s %(levelname)-8s %(message)s\")"
   ]
  },
  {
   "cell_type": "markdown",
   "metadata": {
    "deletable": true,
    "editable": true
   },
   "source": [
    "### First, we need a species tree and an orthoXML !"
   ]
  },
  {
   "cell_type": "code",
   "execution_count": 2,
   "metadata": {
    "collapsed": false,
    "deletable": true,
    "editable": true
   },
   "outputs": [],
   "source": [
    "import os, inspect # This is just to get the exmaple file from your ham package installation\n",
    "\n",
    "#  Select a nwk file as a taxonomy reference\n",
    "nwk_path = os.path.dirname(inspect.getfile(ham)) + \"/../tests/data/simpleEx.nwk\"\n",
    "#  And extract the newick tree as a string\n",
    "tree_str = ham.utils.get_newick_string(nwk_path, type=\"nwk\")\n",
    "\n",
    "# Then you select your favorite orthoXML file\n",
    "\n",
    "orthoxml_path = os.path.dirname(inspect.getfile(ham)) + \"/../tests/data/simpleEx.orthoxml\"\n"
   ]
  },
  {
   "cell_type": "markdown",
   "metadata": {
    "deletable": true,
    "editable": true
   },
   "source": [
    "### Let's feed HAM with some HOGs and a tree."
   ]
  },
  {
   "cell_type": "code",
   "execution_count": 3,
   "metadata": {
    "collapsed": false,
    "deletable": true,
    "editable": true
   },
   "outputs": [
    {
     "name": "stderr",
     "output_type": "stream",
     "text": [
      "2017-05-11 22:06:17,270 ham.ham      INFO     Build taxonomy: completed.\n",
      "2017-05-11 22:06:17,272 ham.parsers  INFO     Species HUMAN created. \n",
      "2017-05-11 22:06:17,274 ham.parsers  INFO     Species PANTR created. \n",
      "2017-05-11 22:06:17,275 ham.parsers  INFO     Species CANFA created. \n",
      "2017-05-11 22:06:17,276 ham.parsers  INFO     Species MOUSE created. \n",
      "2017-05-11 22:06:17,277 ham.parsers  INFO     Species RATNO created. \n",
      "2017-05-11 22:06:17,278 ham.parsers  INFO     Species XENTR created. \n",
      "2017-05-11 22:06:17,281 ham.ham      INFO     Parse Orthoxml: 3 top level hogs and 19 extant genes extract.\n",
      "2017-05-11 22:06:17,282 ham.ham      INFO     Set up HAM analysis: ready to go with 3 hogs founded within 6 species.\n"
     ]
    }
   ],
   "source": [
    "# ham.HAM is th/e main object that contained all information and functionalities.\n",
    "ham_analysis = ham.HAM(tree_str, orthoxml_path, use_internal_name=True)"
   ]
  },
  {
   "cell_type": "markdown",
   "metadata": {
    "deletable": true,
    "editable": true
   },
   "source": [
    "### Alternative options: filtering and taxonomic range naming !"
   ]
  },
  {
   "cell_type": "markdown",
   "metadata": {
    "deletable": true,
    "editable": true
   },
   "source": [
    "#### Taxonomic range naming\n",
    "If you don't want to use the internal names defined by the newick specie tree (or if it's have support values as internal names) you can use the automatic naming of HAM (by concatenation of node child names).\n"
   ]
  },
  {
   "cell_type": "code",
   "execution_count": 4,
   "metadata": {
    "collapsed": false,
    "deletable": true,
    "editable": true
   },
   "outputs": [
    {
     "name": "stderr",
     "output_type": "stream",
     "text": [
      "2017-05-11 22:06:17,292 ham.ham      INFO     Build taxonomy: completed.\n",
      "2017-05-11 22:06:17,293 ham.parsers  INFO     Species HUMAN created. \n",
      "2017-05-11 22:06:17,294 ham.parsers  INFO     Species PANTR created. \n",
      "2017-05-11 22:06:17,295 ham.parsers  INFO     Species CANFA created. \n",
      "2017-05-11 22:06:17,296 ham.parsers  INFO     Species MOUSE created. \n",
      "2017-05-11 22:06:17,297 ham.parsers  INFO     Species RATNO created. \n",
      "2017-05-11 22:06:17,297 ham.parsers  INFO     Species XENTR created. \n",
      "2017-05-11 22:06:17,300 ham.ham      INFO     Parse Orthoxml: 3 top level hogs and 19 extant genes extract.\n",
      "2017-05-11 22:06:17,300 ham.ham      INFO     Set up HAM analysis: ready to go with 3 hogs founded within 6 species.\n"
     ]
    },
    {
     "name": "stdout",
     "output_type": "stream",
     "text": [
      "Ancestral genomes name using internal names:\n",
      "\t- Rodents\n",
      "\t- Primates\n",
      "\t- Euarchontoglires\n",
      "\t- Vertebrata\n",
      "\t- Mammalia\n",
      "Ancestral genomes name using artificial ham internal names:\n",
      "\t- MOUSE/RATNO\n",
      "\t- HUMAN/PANTR\n",
      "\t- XENTR/HUMAN/PANTR/MOUSE/RATNO/CANFA\n",
      "\t- HUMAN/PANTR/MOUSE/RATNO\n",
      "\t- HUMAN/PANTR/MOUSE/RATNO/CANFA\n",
      "\n",
      "                                   /-XENTR\n",
      "                                  |\n",
      "                                  |                                                               /-HUMAN\n",
      "-XENTR/HUMAN/PANTR/MOUSE/RATNO/CANFA                                                   /HUMAN/PANTR\n",
      "                                  |                                                   |           \\-PANTR\n",
      "                                  |                             /HUMAN/PANTR/MOUSE/RATNO\n",
      "                                  |                            |                      |           /-MOUSE\n",
      "                                   \\HUMAN/PANTR/MOUSE/RATNO/CANFA                      \\MOUSE/RATNO\n",
      "                                                               |                                  \\-RATNO\n",
      "                                                               |\n",
      "                                                                \\-CANFA\n"
     ]
    }
   ],
   "source": [
    "# the use_internal_name attribute is doing the job\n",
    "ham_analysis_no_name = ham.HAM(tree_str, orthoxml_path, use_internal_name=False)\n",
    "\n",
    "# In the previous section we use the internal name of the newick tree:\n",
    "print(\"Ancestral genomes name using internal names:\")\n",
    "for ag in ham_analysis.taxonomy.internal_nodes:\n",
    "    print(\"\\t- {}\".format(ag.name))\n",
    "    \n",
    "# Here we use the artificial internal names built by ham:\n",
    "print(\"Ancestral genomes name using artificial ham internal names:\")\n",
    "for ag in ham_analysis_no_name.taxonomy.internal_nodes:\n",
    "    print(\"\\t- {}\".format(ag.name))\n",
    "\n",
    "#  In case you are using use_internal_name=False, the following function returns an ascii representation\n",
    "#  of the newick tree with  articial names. This can be used even before instanciating the HAM object which\n",
    "#  can be usefull to avoid stupid error in script.\n",
    "\n",
    "print(ham.utils.previsualize_taxonomy(tree_str))\n"
   ]
  },
  {
   "cell_type": "markdown",
   "metadata": {
    "deletable": true,
    "editable": true
   },
   "source": [
    "#### Pre Parsing filtering\n",
    "If you have a large orthoXML file or you only want parse information of interest you can use the filter option."
   ]
  },
  {
   "cell_type": "code",
   "execution_count": 5,
   "metadata": {
    "collapsed": false,
    "deletable": true,
    "editable": true
   },
   "outputs": [
    {
     "name": "stderr",
     "output_type": "stream",
     "text": [
      "2017-05-11 22:06:17,311 ham.ham      INFO     Build taxonomy: completed.\n",
      "2017-05-11 22:06:17,313 ham.ham      INFO     Filtering Indexing of Orthoxml done: 1 top level hogs and 4 extant genes will be extract.\n",
      "2017-05-11 22:06:17,314 ham.parsers  INFO     Species HUMAN created. \n",
      "2017-05-11 22:06:17,315 ham.parsers  INFO     Species PANTR created. \n",
      "2017-05-11 22:06:17,316 ham.parsers  INFO     Species CANFA created. \n",
      "2017-05-11 22:06:17,316 ham.parsers  INFO     Species MOUSE created. \n",
      "2017-05-11 22:06:17,317 ham.parsers  INFO     Species RATNO created. \n",
      "2017-05-11 22:06:17,318 ham.parsers  INFO     Species XENTR created. \n",
      "2017-05-11 22:06:17,319 ham.ham      INFO     Parse Orthoxml: 1 top level hogs and 4 extant genes extract.\n",
      "2017-05-11 22:06:17,320 ham.ham      INFO     Set up HAM analysis: ready to go with 1 hogs founded within 6 species.\n"
     ]
    }
   ],
   "source": [
    "# First you instanciate an empty ParserFilter object\n",
    "filter_ham = ham.ParserFilter()\n",
    "\n",
    "# Then you can add to the filter which hog you want using the following function (those 3 examples are doing the same)\n",
    "filter_ham.add_hogs_via_hogId([2]) # by its toplevel hog id \n",
    "filter_ham.add_hogs_via_GeneIntId([2]) # by a gene unique id that belong to the hog of interest \n",
    "filter_ham.add_hogs_via_GeneExtId([\"HUMAN2\"]) # by a gene external id that belong to the hog of interest \n",
    "\n",
    "# Finnaly, you set up the HAM object as you learned with the filter_object attribute\n",
    "ham_analysis_filter = ham.HAM(tree_str, orthoxml_path, use_internal_name=True, filter_object=filter_ham)\n",
    "\n",
    "# If you look at the log information beneath it is differnt from the one previously printed !!"
   ]
  },
  {
   "cell_type": "markdown",
   "metadata": {
    "deletable": true,
    "editable": true
   },
   "source": [
    "<a id='query'></a>\n",
    "## QUERIES: HOW TO TALK WITH HAM ?\n",
    "\n",
    "We can split the queries in diffents types:\n",
    "*  [ExtantGene](#xgeneq)\n",
    "*  [HOG](#hogq)\n",
    "*  [ExtantGenome](#xgenomeq)\n",
    "*  [AncestralGenome](#ancgenomeq)\n",
    "*  [Taxon](#taxq)"
   ]
  },
  {
   "cell_type": "markdown",
   "metadata": {
    "deletable": true,
    "editable": true
   },
   "source": [
    "<a id='xgeneq'></a>\n",
    "### ExtantGene queries"
   ]
  },
  {
   "cell_type": "code",
   "execution_count": 6,
   "metadata": {
    "collapsed": false,
    "deletable": true,
    "editable": true
   },
   "outputs": [
    {
     "name": "stdout",
     "output_type": "stream",
     "text": [
      "Gene(3)\n",
      "Gene(3)\n"
     ]
    }
   ],
   "source": [
    "# Get a gene by its unique (orthoxml) id\n",
    "gene_human3 = ham_analysis.get_gene_by_id(3)\n",
    "print(gene_human3)\n",
    "\n",
    "# Get a list of genes that matches an external id\n",
    "potentential_genes_human3 = ham_analysis.get_genes_by_external_id(\"HUMAN3\")\n",
    "print(potentential_genes_human3[0])\n",
    "\n",
    "## You should see twice the same gene printed beneath !\n",
    "\n",
    "# You can also get all genes created as a list\n",
    "list_genes = ham_analysis.get_list_extant_genes()\n",
    "\n",
    "# or as the dictionnary (key <-> unique id and value <-> gene)\n",
    "dict_genes = ham_analysis.get_dict_extant_genes()"
   ]
  },
  {
   "cell_type": "markdown",
   "metadata": {
    "deletable": true,
    "editable": true
   },
   "source": [
    "<a id='hogq'></a>\n",
    "### HOG queries"
   ]
  },
  {
   "cell_type": "code",
   "execution_count": 7,
   "metadata": {
    "collapsed": false,
    "deletable": true,
    "editable": true
   },
   "outputs": [
    {
     "name": "stdout",
     "output_type": "stream",
     "text": [
      "<HOG(3)>\n",
      "<HOG(3)>\n"
     ]
    }
   ],
   "source": [
    "# Get a HOG by its top level unique id\n",
    "HOG_3 = ham_analysis.get_hog_by_id(3)\n",
    "print(HOG_3)\n",
    "\n",
    "HOG_3 = ham_analysis.get_hog_by_gene(gene_human3)\n",
    "print(HOG_3)\n",
    "\n",
    "## You should see twice the same HOG printed beneath !\n",
    "\n",
    "# You can also get all genes created as a list\n",
    "list_toplevel_hogs = ham_analysis.get_list_top_level_hogs()\n",
    "\n",
    "# or as the dictionnary (key <->  top level id and value <-> HOG)\n",
    "dict_toplevel_hogs = ham_analysis.get_dict_top_level_hogs()"
   ]
  },
  {
   "cell_type": "markdown",
   "metadata": {
    "deletable": true,
    "editable": true
   },
   "source": [
    "<a id='xgenomeq'></a>\n",
    "### ExtantGenome queries"
   ]
  },
  {
   "cell_type": "code",
   "execution_count": 8,
   "metadata": {
    "collapsed": false,
    "deletable": true,
    "editable": true
   },
   "outputs": [
    {
     "name": "stdout",
     "output_type": "stream",
     "text": [
      "HUMAN\n",
      "List of species:\n",
      "\t- HUMAN\n",
      "\t- XENTR\n",
      "\t- MOUSE\n",
      "\t- CANFA\n",
      "\t- PANTR\n",
      "\t- RATNO\n"
     ]
    }
   ],
   "source": [
    "# Get a extant genome by its name\n",
    "genome_human = ham_analysis.get_extant_genome_by_name(\"HUMAN\")\n",
    "print(genome_human)\n",
    "\n",
    "# You can also get all extant genomes created as a list\n",
    "list_genome = ham_analysis.get_list_extant_genomes()\n",
    "print(\"List of species:\")\n",
    "for g in list_genome:\n",
    "    print(\"\\t- {}\".format(g.name))"
   ]
  },
  {
   "cell_type": "markdown",
   "metadata": {
    "deletable": true,
    "editable": true
   },
   "source": [
    "<a id='ancgenomeq'></a>\n",
    "### AncestralGenome queries"
   ]
  },
  {
   "cell_type": "code",
   "execution_count": 9,
   "metadata": {
    "collapsed": false,
    "deletable": true,
    "editable": true
   },
   "outputs": [
    {
     "name": "stdout",
     "output_type": "stream",
     "text": [
      "Rodents\n",
      "MOUSE/RATNO\n",
      "Rodents\n",
      "Rodents\n",
      "\n",
      " List of ancestral genomes:\n",
      "\t- Rodents\n",
      "\t- Primates\n",
      "\t- Euarchontoglires\n",
      "\t- Vertebrata\n",
      "\t- Mammalia\n",
      "\n",
      " Here for the filter version of HAM, the list of ancestral genomes:\n",
      "\t- Euarchontoglires\n",
      "\t- Mammalia\n",
      "\t- Rodents\n",
      "\t- Primates\n",
      "'Vertebrate' is not present in the filter list because not required during the parsing\n"
     ]
    }
   ],
   "source": [
    "# Get an ancestral genome by its name\n",
    "genome_rodents_1 = ham_analysis.get_ancestral_genome_by_name(\"Rodents\")\n",
    "print(genome_rodents_1)\n",
    "\n",
    "# And in case you specified use_internal_name=False ! \n",
    "genome_rodents_2 = ham_analysis_no_name.get_ancestral_genome_by_name(\"MOUSE/RATNO\")\n",
    "print(genome_rodents_2)\n",
    "\n",
    "# Get an ancestral genome by its the looking at the mrca of 2+ genomes\n",
    "# First you get the descendant genomes as we seen above\n",
    "genome_rat = ham_analysis.get_extant_genome_by_name(\"RATNO\")\n",
    "genome_mouse = ham_analysis.get_extant_genome_by_name(\"MOUSE\")\n",
    "# Then you get the corresponding mrca ancestral genomes \n",
    "genome_rodents_3 = ham_analysis.get_ancestral_genome_by_mrca_of_genome_set({genome_rat, genome_mouse})\n",
    "print(genome_rodents_3)\n",
    "\n",
    "# You can also get an ancestral genome by its taxonomy node\n",
    "taxon = ham_analysis.get_taxon_by_name(\"Rodents\") # as seen in the next section\n",
    "genome_rodents_4 = ham_analysis.get_ancestral_genome_by_taxon(taxon)\n",
    "print(genome_rodents_4)\n",
    "\n",
    "# You can also get all ancestral genomes created as a list\n",
    "list_genome = ham_analysis.get_list_ancestral_genomes()\n",
    "print(\"\\n List of ancestral genomes:\")\n",
    "for g in list_genome:\n",
    "    print(\"\\t- {}\".format(g.name))\n",
    "    \n",
    "    \n",
    "# You can also get all ancestral genomes created as a list\n",
    "list_genome = ham_analysis_filter.get_list_ancestral_genomes()\n",
    "print(\"\\n Here for the filter version of HAM, the list of ancestral genomes:\")\n",
    "for g in list_genome:\n",
    "    print(\"\\t- {}\".format(g.name))\n",
    "print(\"'Vertebrate' is not present in the filter list because not required during the parsing\")"
   ]
  },
  {
   "cell_type": "markdown",
   "metadata": {
    "deletable": true,
    "editable": true
   },
   "source": [
    "<a id='taxq'></a>\n",
    "### Taxon queries"
   ]
  },
  {
   "cell_type": "code",
   "execution_count": 10,
   "metadata": {
    "collapsed": false,
    "deletable": true,
    "editable": true
   },
   "outputs": [
    {
     "name": "stdout",
     "output_type": "stream",
     "text": [
      "Rodents\n",
      "HUMAN\n"
     ]
    }
   ],
   "source": [
    "# You can get an Taxonomy node by its name\n",
    "taxon = ham_analysis.get_taxon_by_name(\"Rodents\") \n",
    "print(taxon.name)\n",
    "\n",
    "taxon = ham_analysis.get_taxon_by_name(\"HUMAN\") \n",
    "print(taxon.name)"
   ]
  },
  {
   "cell_type": "markdown",
   "metadata": {
    "deletable": true,
    "editable": true
   },
   "source": [
    "<a id='object'></a>\n",
    "## HAM OBJECT: SHOW ME YOUR SECRETS ?\n",
    "\n",
    "We can split the queries in diffents types:\n",
    "*  [Gene/HOG](#gdef)\n",
    "*  [Genome](#genomedef)\n",
    "*  [Taxonomy](#taxonomydef)\n"
   ]
  },
  {
   "cell_type": "markdown",
   "metadata": {
    "deletable": true,
    "editable": true
   },
   "source": [
    "<a id='gdef'></a>\n",
    "### Gene/HOG"
   ]
  },
  {
   "cell_type": "markdown",
   "metadata": {
    "deletable": true,
    "editable": true
   },
   "source": [
    "#### AbstractGene (Both ExtantGene and HOG)"
   ]
  },
  {
   "cell_type": "code",
   "execution_count": 11,
   "metadata": {
    "collapsed": false,
    "deletable": true,
    "editable": true
   },
   "outputs": [
    {
     "name": "stdout",
     "output_type": "stream",
     "text": [
      "Demo| gene/hog: \n",
      "\t - gene 2:  Gene(2)\n",
      "\t - hog 1:  <HOG(1)>\n"
     ]
    }
   ],
   "source": [
    "# we select one extant gene and one hog for our demo\n",
    "print(\"Demo| gene/hog: \")\n",
    "gene2 = ham_analysis.get_gene_by_id(2)\n",
    "print(\"\\t - gene 2: \", gene2)\n",
    "hog1 = ham_analysis.get_hog_by_id(1)\n",
    "print(\"\\t - hog 1: \", hog1)"
   ]
  },
  {
   "cell_type": "markdown",
   "metadata": {
    "deletable": true,
    "editable": true
   },
   "source": [
    "###### The cool feature in common for both of them are:"
   ]
  },
  {
   "cell_type": "code",
   "execution_count": 12,
   "metadata": {
    "collapsed": false,
    "deletable": true,
    "editable": true
   },
   "outputs": [
    {
     "name": "stdout",
     "output_type": "stream",
     "text": [
      "Demo| gene/hog genome: \n",
      "\t - gene 2:  HUMAN\n",
      "\t - hog 1:  Vertebrata\n",
      "\n",
      "\n"
     ]
    }
   ],
   "source": [
    "# - that we can fetch the genome where they belong to\n",
    "print(\"Demo| gene/hog genome: \")\n",
    "print(\"\\t - gene 2: \", gene2.genome)\n",
    "print(\"\\t - hog 1: \", hog1.genome)\n",
    "print(\"\\n\")"
   ]
  },
  {
   "cell_type": "code",
   "execution_count": 13,
   "metadata": {
    "collapsed": false,
    "deletable": true,
    "editable": true
   },
   "outputs": [
    {
     "name": "stdout",
     "output_type": "stream",
     "text": [
      "Demo| gene/hog related top level hog: \n",
      "\t - gene 2:  <HOG(2)>\n",
      "\t - hog 1: <HOG(1)> (it  returns itself it already top level hog) \n",
      "\n",
      "\n"
     ]
    }
   ],
   "source": [
    "# - that we can get the related top level hog\n",
    "print(\"Demo| gene/hog related top level hog: \")\n",
    "print(\"\\t - gene 2: \", gene2.get_top_level_hog())\n",
    "print(\"\\t - hog 1: {} (it  returns itself it already top level hog) \".format(hog1.get_top_level_hog()))\n",
    "print(\"\\n\")"
   ]
  },
  {
   "cell_type": "code",
   "execution_count": 14,
   "metadata": {
    "collapsed": false,
    "deletable": true,
    "editable": true
   },
   "outputs": [
    {
     "name": "stdout",
     "output_type": "stream",
     "text": [
      "Demo| gene/hog related top level hog: \n",
      "\t - gene 2:  [<HOG()>]\n",
      "\t - hog 1:  [<HOG(1.M.E.R)>]\n",
      "/!\\ THIS CAN RETURN MORE THAN ONE HOG /!\\ \n",
      "\t - hog 3:  [<HOG()>, <HOG()>]\n",
      "\n",
      "\n"
     ]
    }
   ],
   "source": [
    "# - that we can get the related hog at a specific level \n",
    "rodents = ham_analysis.get_ancestral_genome_by_name(\"Rodents\")\n",
    "print(\"Demo| gene/hog related top level hog: \")\n",
    "print(\"\\t - gene 2: \", gene2.get_at_level(rodents))\n",
    "print(\"\\t - hog 1: \", hog1.get_at_level(rodents))\n",
    "print(\"/!\\ THIS CAN RETURN MORE THAN ONE HOG /!\\ \")\n",
    "hog3 = ham_analysis.get_hog_by_id(3)\n",
    "print(\"\\t - hog 3: \", hog3.get_at_level(rodents))\n",
    "print(\"\\n\")"
   ]
  },
  {
   "cell_type": "code",
   "execution_count": 15,
   "metadata": {
    "collapsed": false,
    "deletable": true,
    "editable": true
   },
   "outputs": [
    {
     "name": "stdout",
     "output_type": "stream",
     "text": [
      "Demo| gene/hog singletons ? : \n",
      "\t - gene 2: False\n",
      "\t - gene 5: True\n",
      "\t - HOG 1: False\n",
      "\n",
      "\n"
     ]
    }
   ],
   "source": [
    "# - that we can know if the abstractGene is a singleton or not\n",
    "human_5 = ham_analysis.get_gene_by_id(\"5\")\n",
    "print(\"Demo| gene/hog singletons ? : \")\n",
    "print(\"\\t - gene 2: {}\".format(gene2.is_singleton()))\n",
    "print(\"\\t - gene 5: {}\".format(human_5.is_singleton()))\n",
    "print(\"\\t - HOG 1: {}\".format(hog1.is_singleton()))\n",
    "print(\"\\n\")"
   ]
  },
  {
   "cell_type": "code",
   "execution_count": 16,
   "metadata": {
    "collapsed": false,
    "deletable": true,
    "editable": true
   },
   "outputs": [
    {
     "name": "stdout",
     "output_type": "stream",
     "text": [
      "Demo| gene ancestor hog at Mammalia level: \n",
      "\t - gene 2: (<HOG(2)>, False)\n",
      "\t - hog 3 at rodents: (<HOG(3.M)>, True)\n"
     ]
    }
   ],
   "source": [
    "# - that we can get the ancestor HOG of an abstractGene at a specific level. In addition a boolean specify if a duplication occured in between the two levels.\n",
    "mamm = ham_analysis.get_ancestral_genome_by_name(\"Mammalia\")\n",
    "hog3_rodents = hog3.get_at_level(rodents)[0]\n",
    "\n",
    "print(\"Demo| gene ancestor hog at Mammalia level: \")\n",
    "print(\"\\t - gene 2: {}\".format(gene2.search_ancestor_hog_in_ancestral_genome(mamm)))\n",
    "print(\"\\t - hog 3 at rodents: {}\".format(hog3_rodents.search_ancestor_hog_in_ancestral_genome(mamm)))"
   ]
  },
  {
   "cell_type": "markdown",
   "metadata": {
    "deletable": true,
    "editable": true
   },
   "source": [
    "#### ExtantGene"
   ]
  },
  {
   "cell_type": "code",
   "execution_count": 17,
   "metadata": {
    "collapsed": false,
    "deletable": true,
    "editable": true
   },
   "outputs": [
    {
     "name": "stdout",
     "output_type": "stream",
     "text": [
      "{'id': '2', 'geneId': 'HUMANg2', 'protId': 'HUMAN2'}\n"
     ]
    }
   ],
   "source": [
    "# You can get a dictionary with all the cross references for a gene\n",
    "gene2 = ham_analysis.get_gene_by_id(2)\n",
    "print(gene2.get_dict_xref())"
   ]
  },
  {
   "cell_type": "markdown",
   "metadata": {
    "deletable": true,
    "editable": true
   },
   "source": [
    "#### AncestralGene\n",
    "\n",
    "###### The cool feature in for HOG are that you can:"
   ]
  },
  {
   "cell_type": "code",
   "execution_count": 18,
   "metadata": {
    "collapsed": true,
    "deletable": true,
    "editable": true
   },
   "outputs": [],
   "source": [
    "# demo hog\n",
    "hog1 = ham_analysis.get_hog_by_id(1)\n",
    "hog3 = ham_analysis.get_hog_by_id(3)"
   ]
  },
  {
   "cell_type": "code",
   "execution_count": 19,
   "metadata": {
    "collapsed": false,
    "deletable": true,
    "editable": true
   },
   "outputs": [
    {
     "name": "stdout",
     "output_type": "stream",
     "text": [
      "[Gene(51), Gene(21), Gene(1), Gene(11), Gene(31), Gene(41)]\n"
     ]
    }
   ],
   "source": [
    "# get all descendant genes\n",
    "desc_genes = hog1.get_all_descendant_genes()\n",
    "print(desc_genes)"
   ]
  },
  {
   "cell_type": "code",
   "execution_count": 20,
   "metadata": {
    "collapsed": false,
    "deletable": true,
    "editable": true
   },
   "outputs": [
    {
     "name": "stdout",
     "output_type": "stream",
     "text": [
      "MOUSE [Gene(33), Gene(34)]\n",
      "CANFA [Gene(23)]\n",
      "XENTR [Gene(53)]\n",
      "HUMAN [Gene(3)]\n",
      "PANTR [Gene(13), Gene(14)]\n"
     ]
    }
   ],
   "source": [
    "# get all descendant genes clustered by species\n",
    "desc_genes_clustered = hog3.get_all_descendant_genes_clustered_by_species()\n",
    "for species, genes in desc_genes_clustered.items():\n",
    "    print(species, genes)"
   ]
  },
  {
   "cell_type": "code",
   "execution_count": 21,
   "metadata": {
    "collapsed": false,
    "deletable": true,
    "editable": true
   },
   "outputs": [
    {
     "name": "stdout",
     "output_type": "stream",
     "text": [
      "Vertebrata\n",
      "Mammalia\n",
      "Euarchontoglires\n",
      "Primates\n",
      "Rodents\n"
     ]
    }
   ],
   "source": [
    "# get all descendant level\n",
    "desc_level = hog1.get_all_descendant_hog_levels()\n",
    "for genome in desc_level:\n",
    "    print(genome.name)"
   ]
  },
  {
   "cell_type": "code",
   "execution_count": 22,
   "metadata": {
    "collapsed": false,
    "deletable": true,
    "editable": true
   },
   "outputs": [
    {
     "name": "stdout",
     "output_type": "stream",
     "text": [
      "[<HOG(1)>, <HOG(1.M)>, <HOG(1.M.E)>, <HOG(1.M.E.P)>, <HOG(1.M.E.R)>]\n"
     ]
    }
   ],
   "source": [
    "# get all descendant hogs\n",
    "desc_hog = hog1.get_all_descendant_hogs()\n",
    "print(desc_hog)"
   ]
  },
  {
   "cell_type": "code",
   "execution_count": 23,
   "metadata": {
    "collapsed": false,
    "deletable": true,
    "editable": true
   },
   "outputs": [
    {
     "name": "stdout",
     "output_type": "stream",
     "text": [
      "Gene(51)\n",
      "Gene(21)\n",
      "Gene(1)\n",
      "Gene(11)\n",
      "Gene(31)\n",
      "Gene(41)\n",
      "The return object (list of leaves): [Gene(51), Gene(21), Gene(1), Gene(11), Gene(31), Gene(41)]\n"
     ]
    }
   ],
   "source": [
    "# visit the hog with prefix, postfix, leaf callback function\n",
    "# (reading the docs at ham.abstract.HOG.visit() is required here) \n",
    "\n",
    "# -----------------------------------------------------------#\n",
    "# -- This is an example to apply a function to each leaves --#\n",
    "# -----------------------------------------------------------#\n",
    "def print_and_append_leaf(current, child, list):\n",
    "    list.append(child)\n",
    "    print(child)\n",
    "    return list\n",
    "\n",
    "passed_object = []\n",
    "return_object = hog1.visit(passed_object, function_extant_gene=print_and_append_leaf)\n",
    "\n",
    "print(\"The return object (list of leaves): {}\".format(return_object))"
   ]
  },
  {
   "cell_type": "code",
   "execution_count": 24,
   "metadata": {
    "collapsed": false,
    "deletable": true,
    "editable": true
   },
   "outputs": [
    {
     "name": "stdout",
     "output_type": "stream",
     "text": [
      "<HOG(1)>\n",
      "<HOG(1.M)>\n",
      "<HOG(1.M.E)>\n",
      "<HOG(1.M.E.P)>\n",
      "<HOG(1.M.E.R)>\n",
      "The return object (list of internale nodes): [<HOG(1)>, <HOG(1.M)>, <HOG(1.M.E)>, <HOG(1.M.E.P)>, <HOG(1.M.E.R)>]\n"
     ]
    }
   ],
   "source": [
    "# ------------------------------------------------------------------#\n",
    "# -- This is an example to apply a function to each node (prefix) --#\n",
    "# ------------------------------------------------------------------#\n",
    "def print_and_append_node(current, list):\n",
    "    list.append(current)\n",
    "    print(current)\n",
    "    return list\n",
    "\n",
    "passed_object = []\n",
    "return_object = hog1.visit(passed_object, function_prefix=print_and_append_node)\n",
    "\n",
    "print(\"The return object (list of internale nodes): {}\".format(return_object))"
   ]
  },
  {
   "cell_type": "code",
   "execution_count": 25,
   "metadata": {
    "collapsed": false,
    "deletable": true,
    "editable": true
   },
   "outputs": [
    {
     "name": "stdout",
     "output_type": "stream",
     "text": [
      "<HOG(1.M.E.P)>\n",
      "<HOG(1.M.E.R)>\n",
      "<HOG(1.M.E)>\n",
      "<HOG(1.M)>\n",
      "The return object (list of internale nodes child): [<HOG(1.M.E.P)>, <HOG(1.M.E.R)>, <HOG(1.M.E)>, <HOG(1.M)>]\n"
     ]
    }
   ],
   "source": [
    "# -------------------------------------------------------------------------------------------#\n",
    "# -- This is an example to apply a function to each node after the recursive call (prefix) --#\n",
    "# -------------------------------------------------------------------------------------------#\n",
    "def print_and_append_node(self, child, elem):\n",
    "    elem.append(child)\n",
    "    print(child)\n",
    "    return elem\n",
    "\n",
    "passed_object = []\n",
    "return_object = hog1.visit(passed_object, function_postfix=print_and_append_node)\n",
    "\n",
    "print(\"The return object (list of internale nodes child): {}\".format(return_object))"
   ]
  },
  {
   "cell_type": "markdown",
   "metadata": {
    "deletable": true,
    "editable": true
   },
   "source": [
    "<a id='genomedef'></a>\n",
    "### Genome\n"
   ]
  },
  {
   "cell_type": "code",
   "execution_count": 26,
   "metadata": {
    "collapsed": false,
    "deletable": true,
    "editable": true
   },
   "outputs": [
    {
     "name": "stdout",
     "output_type": "stream",
     "text": [
      "Get genome name:\n",
      "HUMAN\n",
      "Rodents\n",
      "\n",
      "\n"
     ]
    }
   ],
   "source": [
    "human_genome = ham_analysis.get_extant_genome_by_name(\"HUMAN\")\n",
    "rodents_genome = ham_analysis.get_ancestral_genome_by_name(\"Rodents\")\n",
    "\n",
    "# You can get the name\n",
    "print(\"Get genome name:\")\n",
    "print(human_genome.name)\n",
    "print(rodents_genome.name)\n",
    "print(\"\\n\")"
   ]
  },
  {
   "cell_type": "code",
   "execution_count": 27,
   "metadata": {
    "collapsed": false,
    "deletable": true,
    "editable": true
   },
   "outputs": [
    {
     "name": "stdout",
     "output_type": "stream",
     "text": [
      "Get genome taxon:\n",
      "\n",
      "--HUMAN\n",
      "\n",
      "   /-MOUSE\n",
      "--|\n",
      "   \\-RATNO\n",
      "\n",
      "\n"
     ]
    }
   ],
   "source": [
    "# You can get the related node in the taxonomy\n",
    "print(\"Get genome taxon:\")\n",
    "print(human_genome.taxon)\n",
    "print(rodents_genome.taxon)\n",
    "print(\"\\n\")"
   ]
  },
  {
   "cell_type": "code",
   "execution_count": 28,
   "metadata": {
    "collapsed": false,
    "deletable": true,
    "editable": true
   },
   "outputs": [
    {
     "name": "stdout",
     "output_type": "stream",
     "text": [
      "Get genome genes:\n",
      "[Gene(1), Gene(2), Gene(3), Gene(5)]\n",
      "[<HOG(1.M.E.R)>, <HOG()>, <HOG()>, <HOG()>]\n",
      "\n",
      "\n"
     ]
    }
   ],
   "source": [
    "# You can get the list of genes associated to this genomes\n",
    "print(\"Get genome genes:\")\n",
    "print(human_genome.genes)\n",
    "print(rodents_genome.genes)\n",
    "print(\"\\n\")"
   ]
  },
  {
   "cell_type": "code",
   "execution_count": 29,
   "metadata": {
    "collapsed": false,
    "deletable": true,
    "editable": true
   },
   "outputs": [
    {
     "name": "stdout",
     "output_type": "stream",
     "text": [
      "Get genome genes number:\n",
      "4\n",
      "3\n",
      "4\n",
      "\n",
      "\n"
     ]
    }
   ],
   "source": [
    "# You can get the number of genes associated to this genomes\n",
    "print(\"Get genome genes number:\")\n",
    "print(human_genome.get_number_genes(singleton=True))\n",
    "print(human_genome.get_number_genes(singleton=False))\n",
    "print(rodents_genome.get_number_genes())\n",
    "print(\"\\n\")"
   ]
  },
  {
   "cell_type": "code",
   "execution_count": 30,
   "metadata": {
    "collapsed": false,
    "deletable": true,
    "editable": true
   },
   "outputs": [
    {
     "name": "stdout",
     "output_type": "stream",
     "text": [
      "HOG: <HOG()> -> genes: [Gene(33)]\n",
      "HOG: <HOG(1.M.E.R)> -> genes: [Gene(31), Gene(41)]\n",
      "HOG: <HOG()> -> genes: [Gene(34)]\n",
      "HOG: <HOG()> -> genes: [Gene(32)]\n"
     ]
    }
   ],
   "source": [
    "for h, gs in rodents.get_ancestral_clustering().items():\n",
    "    print(\"HOG: {} -> genes: {}\".format(h,gs))"
   ]
  },
  {
   "cell_type": "markdown",
   "metadata": {
    "deletable": true,
    "editable": true
   },
   "source": [
    "<a id='taxonomydef'></a>\n",
    "\n",
    "### Taxonomy\n",
    "\n",
    "The ham.taxonomy.Taxonomy object contains all informations about the species tree structure."
   ]
  },
  {
   "cell_type": "code",
   "execution_count": 31,
   "metadata": {
    "collapsed": false,
    "deletable": true,
    "editable": true
   },
   "outputs": [
    {
     "name": "stdout",
     "output_type": "stream",
     "text": [
      "{Tree node 'HUMAN' (0x10befe40), Tree node 'XENTR' (0x10befe47), Tree node 'MOUSE' (-0x7fffffffef4101af), Tree node 'CANFA' (-0x7fffffffef41018c), Tree node 'PANTR' (0x10befe55), Tree node 'RATNO' (0x10befe5c)}\n",
      "\n",
      "\n",
      "{Tree node 'Rodents' (0x10befe71), Tree node 'Primates' (-0x7fffffffef4101bd), Tree node 'Euarchontoglires' (-0x7fffffffef4101c4), Tree node 'Vertebrata' (0x106e02fd), Tree node 'Mammalia' (0x10befe39)}\n",
      "\n",
      "\n",
      "Vertebrata False True\n",
      "XENTR True False\n",
      "Mammalia False False\n",
      "Euarchontoglires False False\n",
      "CANFA True False\n",
      "Primates False False\n",
      "Rodents False False\n",
      "HUMAN True False\n",
      "PANTR True False\n",
      "MOUSE True False\n",
      "RATNO True False\n"
     ]
    }
   ],
   "source": [
    "# it contains all the leaves nodes:\n",
    "print(ham_analysis.taxonomy.leaves)\n",
    "print(\"\\n\")\n",
    "\n",
    "# and the internal node:\n",
    "print(ham_analysis.taxonomy.internal_nodes)\n",
    "print(\"\\n\")\n",
    "\n",
    "# The main interest of this object is the taxonomy.tree object.\n",
    "tree = ham_analysis.taxonomy.tree\n",
    "\n",
    "# Since it's an ete3.Etree tree is contains all the built-in functionalities\n",
    "for node in ham_analysis.taxonomy.tree.traverse(): # .traverse() is an ete3.etree method.\n",
    "    print(node.name, node.is_leaf(), node.is_root())"
   ]
  },
  {
   "cell_type": "markdown",
   "metadata": {},
   "source": [
    "<a id='compare'></a>\n",
    "## COMPARE SEVERAL GENOMES\n",
    "\n",
    "In HAM, you can compare the genome based on the evolutionary history of their genes. \n",
    "\n",
    "**Vertical comparison** For example you can compare the human genome with its ancestor at the level of Vertebrates. This mean that you will investigate on how the ancestral genes in the Vertebrates ancestral genome have evolved (did they stay single copy, have duplicated or been lost) to gave rise to their related descendants in the human genomes. This is not restricted to extant genomes, you could also compare the rodents with the mammals.\n",
    "\n",
    "As show in the following example:"
   ]
  },
  {
   "cell_type": "code",
   "execution_count": 32,
   "metadata": {
    "collapsed": false
   },
   "outputs": [
    {
     "name": "stdout",
     "output_type": "stream",
     "text": [
      "HOG at vertebrates -> descendant gene in human\n",
      "{<HOG(1)>: Gene(1)}\n",
      "\n",
      "\n",
      "HOG at vertebrates -> list of descendants gene in human\n",
      "{<HOG(3)>: [Gene(3)]}\n",
      "\n",
      "\n",
      "List of human gene\n",
      "[Gene(5), Gene(2)]\n",
      "\n",
      "\n",
      "HOG at vertebrates that are lost\n",
      "set()\n",
      "\n",
      "\n"
     ]
    }
   ],
   "source": [
    "# Get the genome of interest\n",
    "human = ham_analysis.get_extant_genome_by_name(\"HUMAN\")\n",
    "vertebrates = ham_analysis.get_ancestral_genome_by_name(\"Vertebrata\")\n",
    "\n",
    "# Instanciate the gene mapping !\n",
    "vertical_human_vertebrates = ham_analysis.compare_genomes_vertically(human, vertebrates) # The order doesn't matters !\n",
    "\n",
    "# Ask the mapper about the genes evolutionary history between the human and the vertebrates.\n",
    "\n",
    "# The identical genes (that stay single copies) \n",
    "print(\"HOG at vertebrates -> descendant gene in human\")\n",
    "print(vertical_human_vertebrates.get_identical())\n",
    "print(\"\\n\")\n",
    "\n",
    "# The duplicated genes (that have duplicated) \n",
    "print(\"HOG at vertebrates -> list of descendants gene in human\")\n",
    "print(vertical_human_vertebrates.get_duplicated())\n",
    "print(\"\\n\")\n",
    "\n",
    "# The gained genes (that emerged in between)\n",
    "print(\"List of human gene\")\n",
    "print(vertical_human_vertebrates.get_gained())\n",
    "print(\"\\n\")\n",
    "\n",
    "# The lost genes (that been lost in between) \n",
    "print(\"HOG at vertebrates that are lost\")\n",
    "print(vertical_human_vertebrates.get_lost())\n",
    "print(\"\\n\")\n"
   ]
  },
  {
   "cell_type": "markdown",
   "metadata": {},
   "source": [
    "**Lateral comparison** An other example could be to compare the rodents ancestral genome vs the primates ancestral genome through their common ancestor at the level of Euarchontoglires. In the same principle as explained in the last paragraph you are investigating on how the ancestral Euarchontoglires genes had behave to gave rise to their related descendant in both primates and rodents ancestrals genomes."
   ]
  },
  {
   "cell_type": "code",
   "execution_count": 34,
   "metadata": {
    "collapsed": false
   },
   "outputs": [
    {
     "name": "stdout",
     "output_type": "stream",
     "text": [
      "IDENTICAL GENES\n",
      "\t- HOG at Euarchontoglires <HOG(1.M.E)> is the ancestor of: \n",
      "\t\t-  Gene(41) in RATNO\n",
      "\t\t-  Gene(1) in HUMAN\n",
      "\t- HOG at Euarchontoglires <HOG(2.E)> is the ancestor of: \n",
      "\t\t-  Gene(2) in HUMAN\n",
      "\t- HOG at Euarchontoglires <HOG(3.E.1)> is the ancestor of: \n",
      "\t\t-  Gene(3) in HUMAN\n",
      "\n",
      "\n",
      "DUPLICATED GENES\n",
      "\n",
      "\n",
      "GAINED GENES\n",
      "\t- Genome RATNO have gained:\n",
      "\t\t-  Gene(43)\n",
      "\t- Genome HUMAN have gained:\n",
      "\t\t-  Gene(5)\n",
      "\n",
      "\n",
      "LOST GENES\n",
      "\t- HOG at Euarchontoglires <HOG(2.E)> have been lost in \n",
      "\t\t- RATNO\n",
      "\t- HOG at Euarchontoglires <HOG(3.E.2)> have been lost in \n",
      "\t\t- RATNO\n",
      "\t\t- HUMAN\n",
      "\t- HOG at Euarchontoglires <HOG(3.E.1)> have been lost in \n",
      "\t\t- RATNO\n",
      "\n",
      "\n"
     ]
    }
   ],
   "source": [
    "# Get the genome of interest\n",
    "human = ham_analysis.get_extant_genome_by_name(\"HUMAN\")\n",
    "mouse = ham_analysis.get_extant_genome_by_name(\"RATNO\")\n",
    "\n",
    "# Instanciate the gene mapping !\n",
    "lateral_human_mouse = ham_analysis.compare_genomes_lateral(human, mouse) # The order doesn't matters !\n",
    "\n",
    "# Ask the mapper about the genes evolutionary history between the human and the rat with and the Euarchontoglires (their mrca).\n",
    "\n",
    "# The identical genes (that stay single copies) \n",
    "print(\"IDENTICAL GENES\")\n",
    "for hogs, dict_genome_gene in lateral_human_mouse.get_identical().items():\n",
    "    print(\"\\t- HOG at Euarchontoglires {} is the ancestor of: \".format(hogs))\n",
    "    for g, gene in dict_genome_gene.items():\n",
    "        print(\"\\t\\t-  {} in {}\".format(gene, g))\n",
    "print(\"\\n\")\n",
    "\n",
    "# The duplicated genes (that have duplicated) \n",
    "print(\"DUPLICATED GENES\")\n",
    "for hogs, dict_genome_genes in lateral_human_mouse.get_duplicated().items():\n",
    "    print(\"\\t- HOG at Euarchontoglires {} is the ancestor of: \".format(hogs))\n",
    "    for g, genes in dict_genome_gene.items():\n",
    "        print(\"\\t\\t-  {} in {}\".format(genes, g))\n",
    "print(\"\\n\")\n",
    "\n",
    "# The gained genes (that emerged in between)\n",
    "print(\"GAINED GENES\")\n",
    "for genome, gains in lateral_human_mouse.get_gained().items():\n",
    "    print(\"\\t- Genome {} have gained:\".format(genome))\n",
    "    for g in gains:\n",
    "        print(\"\\t\\t-  {}\".format(g))\n",
    "print(\"\\n\")\n",
    "\n",
    "# The lost genes (that been lost in between) \n",
    "print(\"LOST GENES\")\n",
    "for hog, genomes in lateral_human_mouse.get_lost().items():\n",
    "    print(\"\\t- HOG at Euarchontoglires {} have been lost in \".format(hog))\n",
    "    for g in genomes:\n",
    "        print(\"\\t\\t- {}\".format(g))\n",
    "print(\"\\n\")\n"
   ]
  },
  {
   "cell_type": "code",
   "execution_count": null,
   "metadata": {
    "collapsed": true
   },
   "outputs": [],
   "source": []
  },
  {
   "cell_type": "code",
   "execution_count": null,
   "metadata": {
    "collapsed": true,
    "deletable": true,
    "editable": true
   },
   "outputs": [],
   "source": []
  }
 ],
 "metadata": {
  "kernelspec": {
   "display_name": "Python 3",
   "language": "python",
   "name": "python3"
  },
  "language_info": {
   "codemirror_mode": {
    "name": "ipython",
    "version": 3
   },
   "file_extension": ".py",
   "mimetype": "text/x-python",
   "name": "python",
   "nbconvert_exporter": "python",
   "pygments_lexer": "ipython3",
   "version": "3.5.1"
  }
 },
 "nbformat": 4,
 "nbformat_minor": 2
}
