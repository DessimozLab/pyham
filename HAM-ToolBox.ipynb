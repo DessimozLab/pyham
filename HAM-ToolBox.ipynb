{
 "cells": [
  {
   "cell_type": "markdown",
   "metadata": {},
   "source": [
    "# Welcome to HAM Tool Box !"
   ]
  },
  {
   "cell_type": "markdown",
   "metadata": {},
   "source": [
    "This ipython notebook aims to help you to do your first steps with HAM. \n",
    "\n",
    "We will covered in this tutorial how to: \n",
    "    - set up an HAM analysis using the different options available.\n",
    "    - shows the different queries that you can use to fetch information you want.\n",
    "    - explore what all ham objects have to offer !\n",
    "    - compare several genomes throught their HOGS.\n",
    "    - run hogvis (single hog visualisation)\n",
    "    - run treeprofile (species tree with annotated node with evolutionary events)\n",
    "    "
   ]
  },
  {
   "cell_type": "markdown",
   "metadata": {},
   "source": [
    "## SET-UP THE HAM"
   ]
  },
  {
   "cell_type": "markdown",
   "metadata": {},
   "source": [
    "### Required import"
   ]
  },
  {
   "cell_type": "code",
   "execution_count": 1,
   "metadata": {
    "collapsed": true
   },
   "outputs": [],
   "source": [
    "#  This is the HAM package\n",
    "import ham\n",
    "\n",
    "#  OPTIONAL: only if you want to have the logger information printed\n",
    "import logging\n",
    "logging.basicConfig(level=logging.INFO, format=\"%(asctime)s %(name)-12s %(levelname)-8s %(message)s\")"
   ]
  },
  {
   "cell_type": "markdown",
   "metadata": {},
   "source": [
    "### First, we need a species tree and an orthoXML !"
   ]
  },
  {
   "cell_type": "code",
   "execution_count": 2,
   "metadata": {
    "collapsed": false
   },
   "outputs": [],
   "source": [
    "#  Select a nwk file as a taxonomy reference\n",
    "nwk_path = './tests/data/simpleEx.nwk'\n",
    "#  And extract the newick tree as a string\n",
    "tree_str = ham.utils.get_newick_string(nwk_path, type=\"nwk\")\n",
    "\n",
    "# Then you select your favorite orthoXML file\n",
    "orthoxml_path = './tests/data/simpleEx.orthoxml'"
   ]
  },
  {
   "cell_type": "markdown",
   "metadata": {},
   "source": [
    "### Let's feed HAM with some HOGs and a tree."
   ]
  },
  {
   "cell_type": "code",
   "execution_count": 3,
   "metadata": {
    "collapsed": false
   },
   "outputs": [
    {
     "name": "stderr",
     "output_type": "stream",
     "text": [
      "2017-05-11 17:04:25,575 ham.ham      INFO     Build taxonomy: completed.\n",
      "2017-05-11 17:04:25,577 ham.parsers  INFO     Species HUMAN created. \n",
      "2017-05-11 17:04:25,578 ham.parsers  INFO     Species PANTR created. \n",
      "2017-05-11 17:04:25,579 ham.parsers  INFO     Species CANFA created. \n",
      "2017-05-11 17:04:25,581 ham.parsers  INFO     Species MOUSE created. \n",
      "2017-05-11 17:04:25,582 ham.parsers  INFO     Species RATNO created. \n",
      "2017-05-11 17:04:25,583 ham.parsers  INFO     Species XENTR created. \n",
      "2017-05-11 17:04:25,586 ham.ham      INFO     Parse Orthoxml: 3 top level hogs and 19 extant genes extract.\n",
      "2017-05-11 17:04:25,587 ham.ham      INFO     Set up HAM analysis: ready to go with 3 hogs founded within 6 species.\n"
     ]
    }
   ],
   "source": [
    "# ham.HAM is th/e main object that contained all information and functionalities.\n",
    "ham_analysis = ham.HAM(tree_str, orthoxml_path, use_internal_name=True)"
   ]
  },
  {
   "cell_type": "markdown",
   "metadata": {},
   "source": [
    "### Alternative options: filtering and taxonomic range naming !"
   ]
  },
  {
   "cell_type": "markdown",
   "metadata": {},
   "source": [
    "#### Taxonomic range naming\n",
    "If you don't want to use the internal names defined by the newick specie tree (or if it's have support values as internal names) you can use the automatic naming of HAM (by concatenation of node child names).\n"
   ]
  },
  {
   "cell_type": "code",
   "execution_count": 4,
   "metadata": {
    "collapsed": false
   },
   "outputs": [
    {
     "name": "stderr",
     "output_type": "stream",
     "text": [
      "2017-05-11 17:04:25,597 ham.ham      INFO     Build taxonomy: completed.\n",
      "2017-05-11 17:04:25,599 ham.parsers  INFO     Species HUMAN created. \n",
      "2017-05-11 17:04:25,601 ham.parsers  INFO     Species PANTR created. \n",
      "2017-05-11 17:04:25,602 ham.parsers  INFO     Species CANFA created. \n",
      "2017-05-11 17:04:25,603 ham.parsers  INFO     Species MOUSE created. \n",
      "2017-05-11 17:04:25,604 ham.parsers  INFO     Species RATNO created. \n",
      "2017-05-11 17:04:25,605 ham.parsers  INFO     Species XENTR created. \n",
      "2017-05-11 17:04:25,607 ham.ham      INFO     Parse Orthoxml: 3 top level hogs and 19 extant genes extract.\n",
      "2017-05-11 17:04:25,608 ham.ham      INFO     Set up HAM analysis: ready to go with 3 hogs founded within 6 species.\n"
     ]
    },
    {
     "name": "stdout",
     "output_type": "stream",
     "text": [
      "Ancestral genomes name using internal names:\n",
      "\t- Euarchontoglires\n",
      "\t- Mammalia\n",
      "\t- Primates\n",
      "\t- Rodents\n",
      "\t- Vertebrata\n",
      "Ancestral genomes name using artificial ham internal names:\n",
      "\t- XENTR/HUMAN/PANTR/MOUSE/RATNO/CANFA\n",
      "\t- HUMAN/PANTR/MOUSE/RATNO\n",
      "\t- HUMAN/PANTR/MOUSE/RATNO/CANFA\n",
      "\t- MOUSE/RATNO\n",
      "\t- HUMAN/PANTR\n",
      "\n",
      "                                   /-XENTR\n",
      "                                  |\n",
      "                                  |                                                               /-HUMAN\n",
      "-XENTR/HUMAN/PANTR/MOUSE/RATNO/CANFA                                                   /HUMAN/PANTR\n",
      "                                  |                                                   |           \\-PANTR\n",
      "                                  |                             /HUMAN/PANTR/MOUSE/RATNO\n",
      "                                  |                            |                      |           /-MOUSE\n",
      "                                   \\HUMAN/PANTR/MOUSE/RATNO/CANFA                      \\MOUSE/RATNO\n",
      "                                                               |                                  \\-RATNO\n",
      "                                                               |\n",
      "                                                                \\-CANFA\n"
     ]
    }
   ],
   "source": [
    "# the use_internal_name attribute is doing the job\n",
    "ham_analysis_no_name = ham.HAM(tree_str, orthoxml_path, use_internal_name=False)\n",
    "\n",
    "# In the previous section we use the internal name of the newick tree:\n",
    "print(\"Ancestral genomes name using internal names:\")\n",
    "for ag in ham_analysis.taxonomy.internal_nodes:\n",
    "    print(\"\\t- {}\".format(ag.name))\n",
    "    \n",
    "# Here we use the artificial internal names built by ham:\n",
    "print(\"Ancestral genomes name using artificial ham internal names:\")\n",
    "for ag in ham_analysis_no_name.taxonomy.internal_nodes:\n",
    "    print(\"\\t- {}\".format(ag.name))\n",
    "\n",
    "#  In case you are using use_internal_name=False, the following function returns an ascii representation\n",
    "#  of the newick tree with  articial names. This can be used even before instanciating the HAM object which\n",
    "#  can be usefull to avoid stupid error in script.\n",
    "\n",
    "print(ham.utils.previsualize_taxonomy(tree_str))\n"
   ]
  },
  {
   "cell_type": "markdown",
   "metadata": {},
   "source": [
    "#### Pre Parsing filtering\n",
    "If you have a large orthoXML file or you only want parse information of interest you can use the filter option."
   ]
  },
  {
   "cell_type": "code",
   "execution_count": 5,
   "metadata": {
    "collapsed": false
   },
   "outputs": [
    {
     "name": "stderr",
     "output_type": "stream",
     "text": [
      "2017-05-11 17:04:25,620 ham.ham      INFO     Build taxonomy: completed.\n",
      "2017-05-11 17:04:25,622 ham.ham      INFO     Filtering Indexing of Orthoxml done: 1 top level hogs and 4 extant genes will be extract.\n",
      "2017-05-11 17:04:25,623 ham.parsers  INFO     Species HUMAN created. \n",
      "2017-05-11 17:04:25,624 ham.parsers  INFO     Species PANTR created. \n",
      "2017-05-11 17:04:25,625 ham.parsers  INFO     Species CANFA created. \n",
      "2017-05-11 17:04:25,627 ham.parsers  INFO     Species MOUSE created. \n",
      "2017-05-11 17:04:25,628 ham.parsers  INFO     Species RATNO created. \n",
      "2017-05-11 17:04:25,630 ham.parsers  INFO     Species XENTR created. \n",
      "2017-05-11 17:04:25,633 ham.ham      INFO     Parse Orthoxml: 1 top level hogs and 4 extant genes extract.\n",
      "2017-05-11 17:04:25,634 ham.ham      INFO     Set up HAM analysis: ready to go with 1 hogs founded within 6 species.\n"
     ]
    }
   ],
   "source": [
    "# First you instanciate an empty ParserFilter object\n",
    "filter_ham = ham.ParserFilter()\n",
    "\n",
    "# Then you can add to the filter which hog you want using the following function (those 3 examples are doing the same)\n",
    "filter_ham.add_hogs_via_hogId([2]) # by its toplevel hog id \n",
    "filter_ham.add_hogs_via_GeneIntId([2]) # by a gene unique id that belong to the hog of interest \n",
    "filter_ham.add_hogs_via_GeneExtId([\"HUMAN2\"]) # by a gene external id that belong to the hog of interest \n",
    "\n",
    "# Finnaly, you set up the HAM object as you learned with the filter_object attribute\n",
    "ham_analysis_filter = ham.HAM(tree_str, orthoxml_path, use_internal_name=True, filter_object=filter_ham)\n",
    "\n",
    "# If you look at the log information beneath it is differnt from the one previously printed !!"
   ]
  },
  {
   "cell_type": "markdown",
   "metadata": {},
   "source": [
    "## QUERIES: HOW TO TALK WITH HAM ?\n",
    "\n",
    "We can split the queries in diffents types:\n",
    "    - ExtantGene\n",
    "    - HOG\n",
    "    - ExtantGenome\n",
    "    - AncestralGenome\n",
    "    - Taxon"
   ]
  },
  {
   "cell_type": "markdown",
   "metadata": {},
   "source": [
    "### ExtantGene queries"
   ]
  },
  {
   "cell_type": "code",
   "execution_count": 6,
   "metadata": {
    "collapsed": false
   },
   "outputs": [
    {
     "name": "stdout",
     "output_type": "stream",
     "text": [
      "Gene(3)\n",
      "Gene(3)\n"
     ]
    }
   ],
   "source": [
    "# Get a gene by its unique (orthoxml) id\n",
    "gene_human3 = ham_analysis.get_gene_by_id(3)\n",
    "print(gene_human3)\n",
    "\n",
    "# Get a list of genes that matches an external id\n",
    "potentential_genes_human3 = ham_analysis.get_genes_by_external_id(\"HUMAN3\")\n",
    "print(potentential_genes_human3[0])\n",
    "\n",
    "## You should see twice the same gene printed beneath !\n",
    "\n",
    "# You can also get all genes created as a list\n",
    "list_genes = ham_analysis.get_list_extant_genes()\n",
    "\n",
    "# or as the dictionnary (key <-> unique id and value <-> gene)\n",
    "dict_genes = ham_analysis.get_dict_extant_genes()"
   ]
  },
  {
   "cell_type": "markdown",
   "metadata": {
    "deletable": true,
    "editable": true
   },
   "source": [
    "### HOG queries"
   ]
  },
  {
   "cell_type": "code",
   "execution_count": 7,
   "metadata": {
    "collapsed": false,
    "deletable": true,
    "editable": true
   },
   "outputs": [
    {
     "name": "stdout",
     "output_type": "stream",
     "text": [
      "<HOG(3)>\n",
      "<HOG(3)>\n"
     ]
    }
   ],
   "source": [
    "# Get a HOG by its top level unique id\n",
    "HOG_3 = ham_analysis.get_hog_by_id(3)\n",
    "print(HOG_3)\n",
    "\n",
    "HOG_3 = ham_analysis.get_hog_by_gene(gene_human3)\n",
    "print(HOG_3)\n",
    "\n",
    "## You should see twice the same HOG printed beneath !\n",
    "\n",
    "# You can also get all genes created as a list\n",
    "list_toplevel_hogs = ham_analysis.get_list_top_level_hogs()\n",
    "\n",
    "# or as the dictionnary (key <->  top level id and value <-> HOG)\n",
    "dict_toplevel_hogs = ham_analysis.get_dict_top_level_hogs()"
   ]
  },
  {
   "cell_type": "markdown",
   "metadata": {
    "deletable": true,
    "editable": true
   },
   "source": [
    "### ExtantGenome queries"
   ]
  },
  {
   "cell_type": "code",
   "execution_count": 8,
   "metadata": {
    "collapsed": false
   },
   "outputs": [
    {
     "name": "stdout",
     "output_type": "stream",
     "text": [
      "HUMAN\n",
      "List of species:\n",
      "\t- XENTR\n",
      "\t- HUMAN\n",
      "\t- MOUSE\n",
      "\t- PANTR\n",
      "\t- CANFA\n",
      "\t- RATNO\n"
     ]
    }
   ],
   "source": [
    "# Get a extant genome by its name\n",
    "genome_human = ham_analysis.get_extant_genome_by_name(\"HUMAN\")\n",
    "print(genome_human)\n",
    "\n",
    "# You can also get all extant genomes created as a list\n",
    "list_genome = ham_analysis.get_list_extant_genomes()\n",
    "print(\"List of species:\")\n",
    "for g in list_genome:\n",
    "    print(\"\\t- {}\".format(g.name))"
   ]
  },
  {
   "cell_type": "markdown",
   "metadata": {
    "deletable": true,
    "editable": true
   },
   "source": [
    "### AncestralGenome queries"
   ]
  },
  {
   "cell_type": "code",
   "execution_count": 9,
   "metadata": {
    "collapsed": false,
    "deletable": true,
    "editable": true
   },
   "outputs": [
    {
     "name": "stdout",
     "output_type": "stream",
     "text": [
      "Rodents\n",
      "MOUSE/RATNO\n",
      "Rodents\n",
      "Rodents\n",
      "\n",
      " List of ancestral genomes:\n",
      "\t- Euarchontoglires\n",
      "\t- Mammalia\n",
      "\t- Primates\n",
      "\t- Rodents\n",
      "\t- Vertebrata\n",
      "\n",
      " Here for the filter version of HAM, the list of ancestral genomes:\n",
      "\t- Rodents\n",
      "\t- Mammalia\n",
      "\t- Primates\n",
      "\t- Euarchontoglires\n",
      "'Vertebrate' is not present in the filter list because not required during the parsing\n"
     ]
    }
   ],
   "source": [
    "# Get an ancestral genome by its name\n",
    "genome_rodents_1 = ham_analysis.get_ancestral_genome_by_name(\"Rodents\")\n",
    "print(genome_rodents_1)\n",
    "\n",
    "# And in case you specified use_internal_name=False ! \n",
    "genome_rodents_2 = ham_analysis_no_name.get_ancestral_genome_by_name(\"MOUSE/RATNO\")\n",
    "print(genome_rodents_2)\n",
    "\n",
    "# Get an ancestral genome by its the looking at the mrca of 2+ genomes\n",
    "# First you get the descendant genomes as we seen above\n",
    "genome_rat = ham_analysis.get_extant_genome_by_name(\"RATNO\")\n",
    "genome_mouse = ham_analysis.get_extant_genome_by_name(\"MOUSE\")\n",
    "# Then you get the corresponding mrca ancestral genomes \n",
    "genome_rodents_3 = ham_analysis.get_ancestral_genome_by_mrca_of_genome_set({genome_rat, genome_mouse})\n",
    "print(genome_rodents_3)\n",
    "\n",
    "# You can also get an ancestral genome by its taxonomy node\n",
    "taxon = ham_analysis.get_taxon_by_name(\"Rodents\") # as seen in the next section\n",
    "genome_rodents_4 = ham_analysis.get_ancestral_genome_by_taxon(taxon)\n",
    "print(genome_rodents_4)\n",
    "\n",
    "# You can also get all ancestral genomes created as a list\n",
    "list_genome = ham_analysis.get_list_ancestral_genomes()\n",
    "print(\"\\n List of ancestral genomes:\")\n",
    "for g in list_genome:\n",
    "    print(\"\\t- {}\".format(g.name))\n",
    "    \n",
    "    \n",
    "# You can also get all ancestral genomes created as a list\n",
    "list_genome = ham_analysis_filter.get_list_ancestral_genomes()\n",
    "print(\"\\n Here for the filter version of HAM, the list of ancestral genomes:\")\n",
    "for g in list_genome:\n",
    "    print(\"\\t- {}\".format(g.name))\n",
    "print(\"'Vertebrate' is not present in the filter list because not required during the parsing\")"
   ]
  },
  {
   "cell_type": "markdown",
   "metadata": {
    "deletable": true,
    "editable": true
   },
   "source": [
    "### Taxon queries"
   ]
  },
  {
   "cell_type": "code",
   "execution_count": 10,
   "metadata": {
    "collapsed": false,
    "deletable": true,
    "editable": true
   },
   "outputs": [
    {
     "name": "stdout",
     "output_type": "stream",
     "text": [
      "Rodents\n",
      "HUMAN\n"
     ]
    }
   ],
   "source": [
    "# You can get an Taxonomy node by its name\n",
    "taxon = ham_analysis.get_taxon_by_name(\"Rodents\") \n",
    "print(taxon.name)\n",
    "\n",
    "taxon = ham_analysis.get_taxon_by_name(\"HUMAN\") \n",
    "print(taxon.name)"
   ]
  },
  {
   "cell_type": "code",
   "execution_count": null,
   "metadata": {
    "collapsed": true
   },
   "outputs": [],
   "source": []
  }
 ],
 "metadata": {
  "kernelspec": {
   "display_name": "Python 3",
   "language": "python",
   "name": "python3"
  },
  "language_info": {
   "codemirror_mode": {
    "name": "ipython",
    "version": 3
   },
   "file_extension": ".py",
   "mimetype": "text/x-python",
   "name": "python",
   "nbconvert_exporter": "python",
   "pygments_lexer": "ipython3",
   "version": "3.5.1"
  }
 },
 "nbformat": 4,
 "nbformat_minor": 2
}
