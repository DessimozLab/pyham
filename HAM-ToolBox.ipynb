{
 "cells": [
  {
   "cell_type": "markdown",
   "metadata": {
    "deletable": true,
    "editable": true
   },
   "source": [
    "# Welcome to HAM Tool Box!"
   ]
  },
  {
   "cell_type": "markdown",
   "metadata": {
    "deletable": true,
    "editable": true
   },
   "source": [
    "This ipython notebook aims to help you to do your first steps with HAM (or as a spreadsheet for HAM). \n",
    "\n",
    "In this tutorial we will explain how to: \n",
    "* [set up](#set) an HAM analysis using the different availble options.\n",
    "* use the different [queries](#query) that allow to fetch the information you want.\n",
    "* explore what the ham [objects](#object) have to offer.\n",
    "* [compare](#compare) several genomes throught their HOGS.\n",
    "* run [hogvis](#hvis) (single hog visualisation)\n",
    "* run [treeprofile](#tprofile) (species tree with annotated node with evolutionary events)\n",
    "\n"
   ]
  },
  {
   "cell_type": "markdown",
   "metadata": {
    "deletable": true,
    "editable": true
   },
   "source": [
    "#### <a id='set'></a>\n",
    "## SET UP THE HAM"
   ]
  },
  {
   "cell_type": "markdown",
   "metadata": {
    "deletable": true,
    "editable": true
   },
   "source": [
    "### Required import"
   ]
  },
  {
   "cell_type": "code",
   "execution_count": null,
   "metadata": {
    "collapsed": false,
    "deletable": true,
    "editable": true
   },
   "outputs": [],
   "source": [
    "#  This is the HAM package\n",
    "import pyham\n",
    "\n",
    "#  OPTIONAL: only if you want to have the logger information printed\n",
    "import logging\n",
    "logging.basicConfig(level=logging.INFO, format=\"%(asctime)s %(name)-12s %(levelname)-8s %(message)s\")"
   ]
  },
  {
   "cell_type": "markdown",
   "metadata": {
    "deletable": true,
    "editable": true
   },
   "source": [
    "### First, we need a species tree and an orthoXML !"
   ]
  },
  {
   "cell_type": "code",
   "execution_count": null,
   "metadata": {
    "collapsed": false,
    "deletable": true,
    "editable": true
   },
   "outputs": [],
   "source": [
    "import os, inspect # This is just to get the example file from your pyham package installation\n",
    "\n",
    "#  Select a nwk file as a taxonomy reference\n",
    "nwk_path = os.path.dirname(inspect.getfile(pyham)) + \"/../tests/data/simpleEx.nwk\"\n",
    "\n",
    "#  And extract the newick tree as a string\n",
    "tree_str = pyham.utils.get_newick_string(nwk_path, type=\"nwk\")\n",
    "\n",
    "# Then you select your favorite orthoXML file\n",
    "orthoxml_path = os.path.dirname(inspect.getfile(pyham)) + \"/../tests/data/simpleEx.orthoxml\"\n"
   ]
  },
  {
   "cell_type": "markdown",
   "metadata": {
    "deletable": true,
    "editable": true
   },
   "source": [
    "### Let's feed HAM with some HOGs and a tree."
   ]
  },
  {
   "cell_type": "code",
   "execution_count": null,
   "metadata": {
    "collapsed": false,
    "deletable": true,
    "editable": true
   },
   "outputs": [],
   "source": [
    "# pyham.Ham is the main object that containes all information and functionalities.\n",
    "ham_analysis = pyham.Ham(tree_str, orthoxml_path, use_internal_name=True)\n"
   ]
  },
  {
   "cell_type": "markdown",
   "metadata": {
    "deletable": true,
    "editable": true
   },
   "source": [
    "### Alternative options: filtering and taxonomic range naming!"
   ]
  },
  {
   "cell_type": "markdown",
   "metadata": {
    "deletable": true,
    "editable": true
   },
   "source": [
    "#### Taxonomic range naming\n",
    "If you don't want to use the internal names defined by the newick specie tree (or if it's have support values as internal names) you can use the automatic internal node naming of HAM (i.e. concatenation of children names).\n"
   ]
  },
  {
   "cell_type": "code",
   "execution_count": null,
   "metadata": {
    "collapsed": false,
    "deletable": true,
    "editable": true
   },
   "outputs": [],
   "source": [
    "# the use_internal_name attribute is doing the job\n",
    "ham_analysis_no_name = pyham.Ham(tree_str, orthoxml_path, use_internal_name=False)\n",
    "\n",
    "# In the previous section we use the internal name of the newick tree:\n",
    "print(\"Ancestral genomes name using newick internal names:\")\n",
    "for ag in ham_analysis.taxonomy.internal_nodes:\n",
    "    print(\"\\t- {}\".format(ag.name))\n",
    "    "
   ]
  },
  {
   "cell_type": "code",
   "execution_count": null,
   "metadata": {
    "collapsed": false,
    "deletable": true,
    "editable": true
   },
   "outputs": [],
   "source": [
    "# Here we use the artificial internal names built by pyham:\n",
    "print(\"Ancestral genomes name using artificial ham names:\")\n",
    "for ag in ham_analysis_no_name.taxonomy.internal_nodes:\n",
    "    print(\"\\t- {}\".format(ag.name))\n",
    "    "
   ]
  },
  {
   "cell_type": "code",
   "execution_count": null,
   "metadata": {
    "collapsed": false,
    "deletable": true,
    "editable": true
   },
   "outputs": [],
   "source": [
    "#  In case you are using use_internal_name=False, the following function returns an ascii representation\n",
    "#  of the newick tree with  articial names. This can be used even before instanciating the HAM object which\n",
    "#  can be useful to avoid stupid error of query by name in scripts.\n",
    "print(pyham.utils.previsualize_taxonomy(tree_str))\n"
   ]
  },
  {
   "cell_type": "markdown",
   "metadata": {
    "deletable": true,
    "editable": true
   },
   "source": [
    "#### Pre Parsing filtering\n",
    "If you have a large orthoXML file or you only want parse information of interest you can use the filter option."
   ]
  },
  {
   "cell_type": "code",
   "execution_count": null,
   "metadata": {
    "collapsed": false,
    "deletable": true,
    "editable": true
   },
   "outputs": [],
   "source": [
    "# First you instanciate an empty ParserFilter object\n",
    "filter_ham = pyham.ParserFilter()\n",
    "\n",
    "# Then you can add to the filter hogs of interest using the following function (those 3 examples are doing the same)\n",
    "filter_ham.add_hogs_via_hogId([2]) # by its toplevel hog id \n",
    "filter_ham.add_hogs_via_GeneIntId([2]) # by a gene unique id that belong to the hog of interest \n",
    "filter_ham.add_hogs_via_GeneExtId([\"HUMAN2\"]) # by a gene external id that belongs to the hog of interest \n",
    "\n",
    "# Finaly, you set up the HAM object as before using the filter_object attribute\n",
    "ham_analysis_filter = pyham.Ham(tree_str, orthoxml_path, use_internal_name=True, filter_object=filter_ham)\n",
    "\n",
    "# If you look at the log information beneath it is different from the one previously printed !!"
   ]
  },
  {
   "cell_type": "markdown",
   "metadata": {
    "deletable": true,
    "editable": true
   },
   "source": [
    "<a id='query'></a>\n",
    "## QUERIES: HOW TO TALK WITH HAM ?\n",
    "\n",
    "We can separate queries into the following categories:\n",
    "*  [ExtantGene](#xgeneq)\n",
    "*  [HOG](#hogq)\n",
    "*  [ExtantGenome](#xgenomeq)\n",
    "*  [AncestralGenome](#ancgenomeq)\n",
    "*  [Taxon](#taxq)"
   ]
  },
  {
   "cell_type": "markdown",
   "metadata": {
    "deletable": true,
    "editable": true
   },
   "source": [
    "<a id='xgeneq'></a>\n",
    "### ExtantGene queries\n",
    "\n",
    "ExtantGene are the object to represent genes at the leaves."
   ]
  },
  {
   "cell_type": "code",
   "execution_count": null,
   "metadata": {
    "collapsed": false,
    "deletable": true,
    "editable": true
   },
   "outputs": [],
   "source": [
    "# Get a gene by its unique (orthoxml) id\n",
    "gene_human3 = ham_analysis.get_gene_by_id(3)\n",
    "print(gene_human3)\n",
    "\n",
    "# Get a list of genes that match an external id\n",
    "potentential_genes_human3 = ham_analysis.get_genes_by_external_id(\"HUMAN3\")\n",
    "print(potentential_genes_human3[0])\n",
    "\n",
    "## You should see twice the same gene printed below!\n",
    "\n",
    "# You can also get all genes created as a list\n",
    "list_genes = ham_analysis.get_list_extant_genes()\n",
    "\n",
    "# or as the dictionnary (key <-> unique id and value <-> gene)\n",
    "dict_genes = ham_analysis.get_dict_extant_genes()"
   ]
  },
  {
   "cell_type": "markdown",
   "metadata": {
    "deletable": true,
    "editable": true
   },
   "source": [
    "<a id='hogq'></a>\n",
    "### HOG queries"
   ]
  },
  {
   "cell_type": "code",
   "execution_count": null,
   "metadata": {
    "collapsed": false,
    "deletable": true,
    "editable": true
   },
   "outputs": [],
   "source": [
    "# Get a HOG by its top level unique id\n",
    "HOG_3 = ham_analysis.get_hog_by_id(3)\n",
    "print(HOG_3)\n",
    "\n",
    "HOG_3 = ham_analysis.get_hog_by_gene(gene_human3)\n",
    "print(HOG_3)\n",
    "\n",
    "## You should see twice the same HOG printed beneath !\n"
   ]
  },
  {
   "cell_type": "code",
   "execution_count": null,
   "metadata": {
    "collapsed": true,
    "deletable": true,
    "editable": true
   },
   "outputs": [],
   "source": [
    "\n",
    "# You can also get all genes created as a list\n",
    "list_toplevel_hogs = ham_analysis.get_list_top_level_hogs()\n",
    "\n",
    "# or as the dictionnary (key <->  top level id and value <-> HOG)\n",
    "dict_toplevel_hogs = ham_analysis.get_dict_top_level_hogs()"
   ]
  },
  {
   "cell_type": "markdown",
   "metadata": {
    "deletable": true,
    "editable": true
   },
   "source": [
    "<a id='xgenomeq'></a>\n",
    "### ExtantGenome queries"
   ]
  },
  {
   "cell_type": "code",
   "execution_count": null,
   "metadata": {
    "collapsed": false,
    "deletable": true,
    "editable": true
   },
   "outputs": [],
   "source": [
    "# Get a extant genome by its name\n",
    "genome_human = ham_analysis.get_extant_genome_by_name(\"HUMAN\")\n",
    "print(genome_human)\n"
   ]
  },
  {
   "cell_type": "code",
   "execution_count": null,
   "metadata": {
    "collapsed": false,
    "deletable": true,
    "editable": true
   },
   "outputs": [],
   "source": [
    "\n",
    "# You can also get all extant genomes created as a list\n",
    "list_genome = ham_analysis.get_list_extant_genomes()\n",
    "print(\"List of species:\")\n",
    "for g in list_genome:\n",
    "    print(\"\\t- {}\".format(g.name))"
   ]
  },
  {
   "cell_type": "markdown",
   "metadata": {
    "deletable": true,
    "editable": true
   },
   "source": [
    "<a id='ancgenomeq'></a>\n",
    "### AncestralGenome queries\n",
    "\n",
    "AncestralGenome are the object to represent the genome associate to internal node in the species tree."
   ]
  },
  {
   "cell_type": "code",
   "execution_count": null,
   "metadata": {
    "collapsed": false,
    "deletable": true,
    "editable": true
   },
   "outputs": [],
   "source": [
    "# Get an ancestral genome by its name\n",
    "genome_rodents_1 = ham_analysis.get_ancestral_genome_by_name(\"Rodents\")\n",
    "print(genome_rodents_1)\n",
    "\n",
    "# And in case you specified use_internal_name=False ! \n",
    "genome_rodents_2 = ham_analysis_no_name.get_ancestral_genome_by_name(\"MOUSE/RATNO\")\n",
    "print(genome_rodents_2)"
   ]
  },
  {
   "cell_type": "code",
   "execution_count": null,
   "metadata": {
    "collapsed": false,
    "deletable": true,
    "editable": true
   },
   "outputs": [],
   "source": [
    "# Get an ancestral genome by looking at the mrca of 2+ genomes\n",
    "# First you get the descendant genomes as we seen above\n",
    "genome_rat = ham_analysis.get_extant_genome_by_name(\"RATNO\")\n",
    "genome_mouse = ham_analysis.get_extant_genome_by_name(\"MOUSE\")\n",
    "# Then you get the corresponding mrca ancestral genomes \n",
    "genome_rodents_3 = ham_analysis.get_ancestral_genome_by_mrca_of_genome_set({genome_rat, genome_mouse})\n",
    "print(genome_rodents_3)"
   ]
  },
  {
   "cell_type": "code",
   "execution_count": null,
   "metadata": {
    "collapsed": false,
    "deletable": true,
    "editable": true
   },
   "outputs": [],
   "source": [
    "# You can also get an ancestral genome by its taxonomy node\n",
    "taxon = ham_analysis.get_taxon_by_name(\"Rodents\") # as seen in the next section\n",
    "genome_rodents_4 = ham_analysis.get_ancestral_genome_by_taxon(taxon)\n",
    "print(genome_rodents_4)"
   ]
  },
  {
   "cell_type": "code",
   "execution_count": null,
   "metadata": {
    "collapsed": false,
    "deletable": true,
    "editable": true
   },
   "outputs": [],
   "source": [
    "# You can also get all ancestral genomes created as a list\n",
    "list_genome = ham_analysis.get_list_ancestral_genomes()\n",
    "print(\"\\n List of ancestral genomes:\")\n",
    "for g in list_genome:\n",
    "    print(\"\\t- {}\".format(g.name))"
   ]
  },
  {
   "cell_type": "code",
   "execution_count": null,
   "metadata": {
    "collapsed": false,
    "deletable": true,
    "editable": true
   },
   "outputs": [],
   "source": [
    "# You can also get all ancestral genomes created as a list\n",
    "list_genome = ham_analysis_filter.get_list_ancestral_genomes()\n",
    "print(\"\\n Here for the filter version of HAM, the list of ancestral genomes:\")\n",
    "for g in list_genome:\n",
    "    print(\"\\t- {}\".format(g.name))\n",
    "    \n",
    "print(\"'Vertebrate' is not present in the filter list because not required during the parsing\")"
   ]
  },
  {
   "cell_type": "markdown",
   "metadata": {
    "deletable": true,
    "editable": true
   },
   "source": [
    "<a id='taxq'></a>\n",
    "### Taxon queries"
   ]
  },
  {
   "cell_type": "code",
   "execution_count": null,
   "metadata": {
    "collapsed": false,
    "deletable": true,
    "editable": true
   },
   "outputs": [],
   "source": [
    "# You can get an Taxonomy node by its name\n",
    "taxon = ham_analysis.get_taxon_by_name(\"Rodents\") \n",
    "print(taxon.name)\n",
    "\n",
    "taxon = ham_analysis.get_taxon_by_name(\"HUMAN\") \n",
    "print(taxon.name)"
   ]
  },
  {
   "cell_type": "markdown",
   "metadata": {
    "deletable": true,
    "editable": true
   },
   "source": [
    "<a id='object'></a>\n",
    "## HAM OBJECT: SHOW ME YOUR SECRETS?\n",
    "\n",
    "Let's have a look at each HAM object !\n",
    "*  [Gene/HOG](#gdef)\n",
    "*  [Genome](#genomedef)\n",
    "*  [Taxonomy](#taxonomydef)\n"
   ]
  },
  {
   "cell_type": "markdown",
   "metadata": {
    "deletable": true,
    "editable": true
   },
   "source": [
    "<a id='gdef'></a>\n",
    "### Gene/HOG"
   ]
  },
  {
   "cell_type": "markdown",
   "metadata": {
    "deletable": true,
    "editable": true
   },
   "source": [
    "#### AbstractGene (Both ExtantGene and HOG)"
   ]
  },
  {
   "cell_type": "code",
   "execution_count": null,
   "metadata": {
    "collapsed": false,
    "deletable": true,
    "editable": true
   },
   "outputs": [],
   "source": [
    "# we select one extant gene and one hog for our demo\n",
    "print(\"Demo| gene/hog: \")\n",
    "gene2 = ham_analysis.get_gene_by_id(2)\n",
    "print(\"\\t - gene 2: \", gene2)\n",
    "hog1 = ham_analysis.get_hog_by_id(1)\n",
    "print(\"\\t - hog 1: \", hog1)"
   ]
  },
  {
   "cell_type": "markdown",
   "metadata": {
    "deletable": true,
    "editable": true
   },
   "source": [
    "###### The cool shared features between both of them are:"
   ]
  },
  {
   "cell_type": "code",
   "execution_count": null,
   "metadata": {
    "collapsed": false,
    "deletable": true,
    "editable": true
   },
   "outputs": [],
   "source": [
    "# that we can fetch the genome where they belong to\n",
    "print(\"Demo| gene/hog genome: \")\n",
    "print(\"\\t - gene 2: \", gene2.genome)\n",
    "print(\"\\t - hog 1: \", hog1.genome)\n",
    "print(\"\\n\")"
   ]
  },
  {
   "cell_type": "code",
   "execution_count": null,
   "metadata": {
    "collapsed": false,
    "deletable": true,
    "editable": true
   },
   "outputs": [],
   "source": [
    "# that we can get the related top level hog\n",
    "print(\"Demo| gene/hog related top level hog: \")\n",
    "print(\"\\t - gene 2: \", gene2.get_top_level_hog())\n",
    "print(\"\\t - hog 1: {} (it  returns itself it already top level hog) \".format(hog1.get_top_level_hog()))\n",
    "print(\"\\n\")"
   ]
  },
  {
   "cell_type": "code",
   "execution_count": null,
   "metadata": {
    "collapsed": false,
    "deletable": true,
    "editable": true
   },
   "outputs": [],
   "source": [
    "# that we can get the related hogs at a specific level \n",
    "rodents = ham_analysis.get_ancestral_genome_by_name(\"Rodents\")\n",
    "print(\"Demo| gene/hog related top level hog: \")\n",
    "print(\"\\t - gene 2: \", gene2.get_at_level(rodents))\n",
    "print(\"\\t - hog 1: \", hog1.get_at_level(rodents))\n",
    "print(\"/!\\ THIS CAN RETURN MORE THAN ONE HOG /!\\ \")\n",
    "hog3 = ham_analysis.get_hog_by_id(3)\n",
    "print(\"\\t - hog 3: \", hog3.get_at_level(rodents))\n",
    "print(\"\\n\")"
   ]
  },
  {
   "cell_type": "code",
   "execution_count": null,
   "metadata": {
    "collapsed": false,
    "deletable": true,
    "editable": true
   },
   "outputs": [],
   "source": [
    "# Singleton -> a gene present in a species of the orthoxml but that doesn't belong to any hog.\n",
    "\n",
    "# that we can know if the abstractGene is a singleton or not\n",
    "human_5 = ham_analysis.get_gene_by_id(\"5\")\n",
    "print(\"Demo| gene/hog singletons ? : \")\n",
    "print(\"\\t - gene 2: {}\".format(gene2.is_singleton()))\n",
    "print(\"\\t - gene 5: {}\".format(human_5.is_singleton()))\n",
    "print(\"\\t - HOG 1: {}\".format(hog1.is_singleton()))\n",
    "print(\"\\n\")"
   ]
  },
  {
   "cell_type": "code",
   "execution_count": null,
   "metadata": {
    "collapsed": false,
    "deletable": true,
    "editable": true
   },
   "outputs": [],
   "source": [
    "# that we can get the ancestral HOG of an abstractGene at a specific level. In addition a boolean specify if a duplication occured in between the two levels.\n",
    "mamm = ham_analysis.get_ancestral_genome_by_name(\"Mammalia\")\n",
    "hog3_rodents = hog3.get_at_level(rodents)[0]\n",
    "\n",
    "print(\"Demo| gene ancestor hog at Mammalia level: \")\n",
    "print(\"\\t - gene 2: {}\".format(gene2.search_ancestor_hog_in_ancestral_genome(mamm)))\n",
    "print(\"\\t - hog 3 at rodents: {}\".format(hog3_rodents.search_ancestor_hog_in_ancestral_genome(mamm)))"
   ]
  },
  {
   "cell_type": "markdown",
   "metadata": {
    "deletable": true,
    "editable": true
   },
   "source": [
    "#### ExtantGene"
   ]
  },
  {
   "cell_type": "code",
   "execution_count": null,
   "metadata": {
    "collapsed": false,
    "deletable": true,
    "editable": true
   },
   "outputs": [],
   "source": [
    "# You can get a dictionary with all the cross references for a gene\n",
    "gene2 = ham_analysis.get_gene_by_id(2)\n",
    "print(gene2.get_dict_xref())"
   ]
  },
  {
   "cell_type": "markdown",
   "metadata": {
    "deletable": true,
    "editable": true
   },
   "source": [
    "#### HOG\n",
    "\n",
    "###### The cool feature in for HOG are that you can:"
   ]
  },
  {
   "cell_type": "code",
   "execution_count": null,
   "metadata": {
    "collapsed": true,
    "deletable": true,
    "editable": true
   },
   "outputs": [],
   "source": [
    "# demo hog\n",
    "hog1 = ham_analysis.get_hog_by_id(1)\n",
    "hog3 = ham_analysis.get_hog_by_id(3)"
   ]
  },
  {
   "cell_type": "code",
   "execution_count": null,
   "metadata": {
    "collapsed": false,
    "deletable": true,
    "editable": true
   },
   "outputs": [],
   "source": [
    "# get all descendant genes\n",
    "desc_genes = hog1.get_all_descendant_genes()\n",
    "print(desc_genes)"
   ]
  },
  {
   "cell_type": "code",
   "execution_count": null,
   "metadata": {
    "collapsed": false,
    "deletable": true,
    "editable": true
   },
   "outputs": [],
   "source": [
    "# get all descendant genes clustered by species\n",
    "desc_genes_clustered = hog3.get_all_descendant_genes_clustered_by_species()\n",
    "for species, genes in desc_genes_clustered.items():\n",
    "    print(species, genes)"
   ]
  },
  {
   "cell_type": "code",
   "execution_count": null,
   "metadata": {
    "collapsed": false,
    "deletable": true,
    "editable": true
   },
   "outputs": [],
   "source": [
    "# get all descendant level (internal node ancestral genomes)\n",
    "desc_level = hog1.get_all_descendant_hog_levels()\n",
    "for genome in desc_level:\n",
    "    print(genome.name)"
   ]
  },
  {
   "cell_type": "code",
   "execution_count": null,
   "metadata": {
    "collapsed": false,
    "deletable": true,
    "editable": true
   },
   "outputs": [],
   "source": [
    "# get all descendant hogs\n",
    "desc_hog = hog1.get_all_descendant_hogs()\n",
    "print(desc_hog)"
   ]
  },
  {
   "cell_type": "code",
   "execution_count": null,
   "metadata": {
    "collapsed": false,
    "deletable": true,
    "editable": true
   },
   "outputs": [],
   "source": [
    "# visit the hog with prefix, postfix, leaf callback function\n",
    "# (reading the docs at pyham.abstract.HOG.visit() is required here) \n",
    "\n",
    "# -----------------------------------------------------------#\n",
    "# -- This is an example to apply a function to each leaves --#\n",
    "# -----------------------------------------------------------#\n",
    "def print_and_append_leaf(current, child, list):\n",
    "    list.append(child)\n",
    "    print(child)\n",
    "    return list\n",
    "\n",
    "passed_object = []\n",
    "return_object = hog1.visit(passed_object, function_extant_gene=print_and_append_leaf)\n",
    "\n",
    "print(\"The return object (list of leaves): {}\".format(return_object))"
   ]
  },
  {
   "cell_type": "code",
   "execution_count": null,
   "metadata": {
    "collapsed": false,
    "deletable": true,
    "editable": true
   },
   "outputs": [],
   "source": [
    "# ------------------------------------------------------------------#\n",
    "# -- This is an example to apply a function to each node (prefix) --#\n",
    "# ------------------------------------------------------------------#\n",
    "def print_and_append_node(current, list):\n",
    "    list.append(current)\n",
    "    print(current)\n",
    "    return list\n",
    "\n",
    "passed_object = []\n",
    "return_object = hog1.visit(passed_object, function_prefix=print_and_append_node)\n",
    "\n",
    "print(\"The return object (list of internale nodes): {}\".format(return_object))"
   ]
  },
  {
   "cell_type": "code",
   "execution_count": null,
   "metadata": {
    "collapsed": false,
    "deletable": true,
    "editable": true
   },
   "outputs": [],
   "source": [
    "# -------------------------------------------------------------------------------------------#\n",
    "# -- This is an example to apply a function to each node after the recursive call (prefix) --#\n",
    "# -------------------------------------------------------------------------------------------#\n",
    "def print_and_append_node(self, child, elem):\n",
    "    elem.append(child)\n",
    "    print(child)\n",
    "    return elem\n",
    "\n",
    "passed_object = []\n",
    "return_object = hog1.visit(passed_object, function_postfix=print_and_append_node)\n",
    "\n",
    "print(\"The return object (list of internale nodes child): {}\".format(return_object))"
   ]
  },
  {
   "cell_type": "markdown",
   "metadata": {
    "deletable": true,
    "editable": true
   },
   "source": [
    "<a id='genomedef'></a>\n",
    "### Genome\n"
   ]
  },
  {
   "cell_type": "code",
   "execution_count": null,
   "metadata": {
    "collapsed": false,
    "deletable": true,
    "editable": true
   },
   "outputs": [],
   "source": [
    "human_genome = ham_analysis.get_extant_genome_by_name(\"HUMAN\")\n",
    "rodents_genome = ham_analysis.get_ancestral_genome_by_name(\"Rodents\")\n",
    "\n",
    "# You can get the name\n",
    "print(\"Get genome name:\")\n",
    "print(\"\\t -{}\".format(human_genome.name))\n",
    "print(\"\\t -{}\".format(rodents_genome.name))\n",
    "print(\"\\n\")"
   ]
  },
  {
   "cell_type": "code",
   "execution_count": null,
   "metadata": {
    "collapsed": false,
    "deletable": true,
    "editable": true
   },
   "outputs": [],
   "source": [
    "# You can get the related node in the taxonomy\n",
    "print(\"Get genome taxon:\")\n",
    "print(human_genome.taxon)\n",
    "print(rodents_genome.taxon)\n",
    "print(\"\\n\")"
   ]
  },
  {
   "cell_type": "code",
   "execution_count": null,
   "metadata": {
    "collapsed": false,
    "deletable": true,
    "editable": true
   },
   "outputs": [],
   "source": [
    "# You can get the list of genes associated to this genomes\n",
    "print(\"Get genome genes:\")\n",
    "print(human_genome.genes)\n",
    "print(rodents_genome.genes)\n",
    "print(\"\\n\")"
   ]
  },
  {
   "cell_type": "code",
   "execution_count": null,
   "metadata": {
    "collapsed": false,
    "deletable": true,
    "editable": true
   },
   "outputs": [],
   "source": [
    "# You can get the number of genes associated to this genomes\n",
    "print(\"Get genome genes number:\")\n",
    "print(human_genome.get_number_genes(singleton=True))\n",
    "print(human_genome.get_number_genes(singleton=False)) # Here we are not counting the singletons as species genes !\n",
    "print(rodents_genome.get_number_genes())\n",
    "print(\"\\n\")"
   ]
  },
  {
   "cell_type": "code",
   "execution_count": null,
   "metadata": {
    "collapsed": false,
    "deletable": true,
    "editable": true
   },
   "outputs": [],
   "source": [
    "for h, gs in rodents.get_ancestral_clustering().items():\n",
    "    print(\"HOG: {} -> genes: {}\".format(h,gs))"
   ]
  },
  {
   "cell_type": "markdown",
   "metadata": {
    "deletable": true,
    "editable": true
   },
   "source": [
    "<a id='taxonomydef'></a>\n",
    "\n",
    "### Taxonomy\n",
    "\n",
    "The pyham.taxonomy.Taxonomy object contains all informations about the species tree structure."
   ]
  },
  {
   "cell_type": "code",
   "execution_count": null,
   "metadata": {
    "collapsed": false,
    "deletable": true,
    "editable": true
   },
   "outputs": [],
   "source": [
    "# it contains all the leaves nodes:\n",
    "print(ham_analysis.taxonomy.leaves)\n",
    "print(\"\\n\")"
   ]
  },
  {
   "cell_type": "code",
   "execution_count": null,
   "metadata": {
    "collapsed": false,
    "deletable": true,
    "editable": true
   },
   "outputs": [],
   "source": [
    "# and the internal node:\n",
    "print(ham_analysis.taxonomy.internal_nodes)\n",
    "print(\"\\n\")"
   ]
  },
  {
   "cell_type": "code",
   "execution_count": null,
   "metadata": {
    "collapsed": false,
    "deletable": true,
    "editable": true
   },
   "outputs": [],
   "source": [
    "# The main interest of this object is the taxonomy.tree object.\n",
    "tree = ham_analysis.taxonomy.tree\n",
    "\n",
    "# Since it's an ete3.Etree tree is contains all the built-in functionalities\n",
    "print(\"GenomeName leaf? root?\")\n",
    "print(\"-----------------------\")\n",
    "for node in ham_analysis.taxonomy.tree.traverse(): # .traverse() is an ete3.etree method.\n",
    "    print(node.name, node.is_leaf(), node.is_root())"
   ]
  },
  {
   "cell_type": "markdown",
   "metadata": {
    "deletable": true,
    "editable": true
   },
   "source": [
    "<a id='compare'></a>\n",
    "## COMPARE SEVERAL GENOMES\n",
    "\n",
    "In HAM, you can compare genomes based on the evolutionary history of their genes. \n",
    "\n",
    "### Vertical comparison\n",
    "For example you can compare the human genome with its ancestor at the level of Vertebrates. This means that you will investigate on how the ancestral genes (HOGs) in the Vertebrates ancestral genome have evolved (did they stay single copy, have duplicated or been lost, or did they evolve some new genes?) to gave rise to their related descendants in the human genome.\n",
    "\n",
    "The comparison is not restricted to a extant genome and its ancestral genome, you could also compare 2 ancestral genomea that are on the same lineage (e.g the rodents with the mammals).\n",
    "\n",
    "As show in the following example:"
   ]
  },
  {
   "cell_type": "code",
   "execution_count": null,
   "metadata": {
    "collapsed": true,
    "deletable": true,
    "editable": true
   },
   "outputs": [],
   "source": [
    "# Get the genome of interest\n",
    "human = ham_analysis.get_extant_genome_by_name(\"HUMAN\")\n",
    "vertebrates = ham_analysis.get_ancestral_genome_by_name(\"Vertebrata\")\n",
    "\n",
    "# Instanciate the gene mapping !\n",
    "vertical_human_vertebrates = ham_analysis.compare_genomes_vertically(human, vertebrates) # The order doesn't matter!\n",
    "\n"
   ]
  },
  {
   "cell_type": "markdown",
   "metadata": {
    "deletable": true,
    "editable": true
   },
   "source": [
    "Ask the mapper about the evolutionary history between the human and the vertebrates genes."
   ]
  },
  {
   "cell_type": "code",
   "execution_count": null,
   "metadata": {
    "collapsed": false,
    "deletable": true,
    "editable": true
   },
   "outputs": [],
   "source": [
    "# The identical genes (that stay single copies) \n",
    "print(\"HOG at vertebrates -> descendant gene in human\")\n",
    "print(vertical_human_vertebrates.get_identical())\n",
    "print(\"\\n\")"
   ]
  },
  {
   "cell_type": "code",
   "execution_count": null,
   "metadata": {
    "collapsed": false,
    "deletable": true,
    "editable": true
   },
   "outputs": [],
   "source": [
    "# The duplicated genes (that have duplicated) \n",
    "print(\"HOG at vertebrates -> list of descendants gene in human\")\n",
    "print(vertical_human_vertebrates.get_duplicated())\n",
    "print(\"\\n\")"
   ]
  },
  {
   "cell_type": "code",
   "execution_count": null,
   "metadata": {
    "collapsed": false,
    "deletable": true,
    "editable": true
   },
   "outputs": [],
   "source": [
    "# The gained genes (that emerged in between)\n",
    "print(\"List of human gene\")\n",
    "print(vertical_human_vertebrates.get_gained())\n",
    "print(\"\\n\")"
   ]
  },
  {
   "cell_type": "code",
   "execution_count": null,
   "metadata": {
    "collapsed": false,
    "deletable": true,
    "editable": true
   },
   "outputs": [],
   "source": [
    "# The lost genes (that been lost in between) \n",
    "print(\"HOG at vertebrates that are lost\")\n",
    "print(vertical_human_vertebrates.get_lost())\n",
    "print(\"\\n\")"
   ]
  },
  {
   "cell_type": "markdown",
   "metadata": {
    "deletable": true,
    "editable": true
   },
   "source": [
    "### Lateral comparison\n",
    "An other example could be to compare the rodents ancestral genome vs the primates ancestral genome through their common ancestor at the level of Euarchontoglires. Similar to the last paragraph you are investigating on how the ancestral Euarchontoglires genes gave rise to their related descendant ancestrals genomes in both primates and rodents."
   ]
  },
  {
   "cell_type": "code",
   "execution_count": null,
   "metadata": {
    "collapsed": false,
    "deletable": true,
    "editable": true
   },
   "outputs": [],
   "source": [
    "# Get the genome of interest\n",
    "human = ham_analysis.get_extant_genome_by_name(\"HUMAN\")\n",
    "mouse = ham_analysis.get_extant_genome_by_name(\"RATNO\")\n",
    "\n",
    "# Instanciate the gene mapping !\n",
    "lateral_human_mouse = ham_analysis.compare_genomes_lateral(human, mouse) # The order doesn't matter!\n"
   ]
  },
  {
   "cell_type": "markdown",
   "metadata": {
    "deletable": true,
    "editable": true
   },
   "source": [
    " Ask the mapper about the genes evolutionary history between the human and the rat with and the Euarchontoglires (their mrca)."
   ]
  },
  {
   "cell_type": "code",
   "execution_count": null,
   "metadata": {
    "collapsed": false,
    "deletable": true,
    "editable": true
   },
   "outputs": [],
   "source": [
    "# The identical genes (that stay single copies) \n",
    "print(\"IDENTICAL GENES\")\n",
    "for hogs, dict_genome_gene in lateral_human_mouse.get_identical().items():\n",
    "    print(\"\\t- HOG at Euarchontoglires {} is the ancestor of: \".format(hogs))\n",
    "    for g, gene in dict_genome_gene.items():\n",
    "        print(\"\\t\\t-  {} in {}\".format(gene, g))\n",
    "print(\"\\n\")"
   ]
  },
  {
   "cell_type": "code",
   "execution_count": null,
   "metadata": {
    "collapsed": false,
    "deletable": true,
    "editable": true
   },
   "outputs": [],
   "source": [
    "# The duplicated genes (that have duplicated) \n",
    "print(\"DUPLICATED GENES\")\n",
    "for hogs, dict_genome_genes in lateral_human_mouse.get_duplicated().items():\n",
    "    print(\"\\t- HOG at Euarchontoglires {} is the ancestor of: \".format(hogs))\n",
    "    for g, genes in dict_genome_gene.items():\n",
    "        print(\"\\t\\t-  {} in {}\".format(genes, g))\n",
    "print(\"\\n\")"
   ]
  },
  {
   "cell_type": "code",
   "execution_count": null,
   "metadata": {
    "collapsed": false,
    "deletable": true,
    "editable": true
   },
   "outputs": [],
   "source": [
    "# The gained genes (that emerged in between)\n",
    "print(\"GAINED GENES\")\n",
    "for genome, gains in lateral_human_mouse.get_gained().items():\n",
    "    print(\"\\t- Genome {} have gained:\".format(genome))\n",
    "    for g in gains:\n",
    "        print(\"\\t\\t-  {}\".format(g))\n",
    "print(\"\\n\")"
   ]
  },
  {
   "cell_type": "code",
   "execution_count": null,
   "metadata": {
    "collapsed": false,
    "deletable": true,
    "editable": true
   },
   "outputs": [],
   "source": [
    "# The lost genes (that been lost in between) \n",
    "print(\"LOST GENES\")\n",
    "for hog, genomes in lateral_human_mouse.get_lost().items():\n",
    "    print(\"\\t- HOG at Euarchontoglires {} have been lost in \".format(hog))\n",
    "    for g in genomes:\n",
    "        print(\"\\t\\t- {}\".format(g))\n",
    "print(\"\\n\")"
   ]
  },
  {
   "cell_type": "markdown",
   "metadata": {
    "deletable": true,
    "editable": true
   },
   "source": [
    "<a id='hvis'></a>\n",
    "## HOGVIS\n",
    "\n",
    "Hogvis is a tool to visualise how the HOG members genes are clustering based on their ancestral genes membership. \n",
    "\n",
    "In other words, given a taxonomic range of interest the HOG extant genes are grouped based on their ancestral genes at the descending taxonomic range.\n",
    "\n",
    "**Let's run the following portion of code to see and example with its description below:**  "
   ]
  },
  {
   "cell_type": "code",
   "execution_count": null,
   "metadata": {
    "collapsed": false,
    "deletable": true,
    "editable": true
   },
   "outputs": [],
   "source": [
    "hog_3 =  ham_analysis.get_hog_by_id(3);ham_analysis.create_hog_visualisation(hog=hog_3,outfile=\"HOG{}.html\".format(hog_3.hog_id));from IPython.display import IFrame;IFrame(\"HOG{}.html\".format(hog_3.hog_id), width=700, height=350)"
   ]
  },
  {
   "cell_type": "markdown",
   "metadata": {
    "deletable": true,
    "editable": true
   },
   "source": [
    "Hogvis is composed of two part:\n",
    "- **Species tree**: This part allows you to select the level of interest (click to freeze the hogvis at this level)\n",
    "- **Genes panel**: Each line represents an extant genome meanwhile each square represents an extant gene.\n",
    "\n",
    "If you look at the level of Vertabrata (hover the node), you will see all the genes that are descendant from one single ancestral gene at this level.\n",
    "\n",
    "If you look now at the level of Euarchontoglires (again, hover the node), you can see that genes are split by a vertical line. This line is used to separate ancestral gene groups. Each columns created by those vertical separators are representing an ancestal gene at the level of interest and contains all the extant genes that are descending from it. \n",
    "\n",
    "Here we can observe one column at the level of Mammalia and 2 columns at the level of Euarchontoglires which mean that a duplication had occured in between those two levels."
   ]
  },
  {
   "cell_type": "markdown",
   "metadata": {
    "deletable": true,
    "editable": true
   },
   "source": [
    "### Hogvis : single HOG"
   ]
  },
  {
   "cell_type": "code",
   "execution_count": null,
   "metadata": {
    "collapsed": false,
    "deletable": true,
    "editable": true
   },
   "outputs": [],
   "source": [
    "# Select an HOG\n",
    "hog_2 =  ham_analysis.get_hog_by_id(2)\n",
    "\n",
    "# create the hogvis for it and store it into an html file\n",
    "output_name = \"HOG{}.html\".format(hog_2.hog_id)\n",
    "ham_analysis.create_hog_visualisation(hog=hog_2,outfile=output_name)\n",
    "\n",
    "# Here a little demo of what you can see with hogs vis\n",
    "from IPython.display import IFrame\n",
    "IFrame(output_name, width=700, height=350)"
   ]
  },
  {
   "cell_type": "markdown",
   "metadata": {
    "deletable": true,
    "editable": true
   },
   "source": [
    "### Hogvis : single HOG at a specific taxonomic range (ancestral genome)"
   ]
  },
  {
   "cell_type": "code",
   "execution_count": null,
   "metadata": {
    "collapsed": false,
    "deletable": true,
    "editable": true,
    "scrolled": true
   },
   "outputs": [],
   "source": [
    "# select an HOG\n",
    "hog_3 =  ham_analysis.get_hog_by_id(3)\n",
    "\n",
    "# then an genome\n",
    "mammals = ham_analysis.get_ancestral_genome_by_name(\"Mammalia\")\n",
    "\n",
    "# and you get the related HOG for this genome\n",
    "hog3_Mammalia = hog_3.get_at_level(mammals)[0] # this function returns a list, I select the first and only one.\n",
    "\n",
    "# create the hogvis for it and save it into an html file\n",
    "output_name = \"HOG{}.html\".format(hog3_Mammalia.hog_id)\n",
    "ham_analysis.create_hog_visualisation(hog=hog3_Mammalia,outfile=output_name)\n",
    "\n",
    "# Here a little demo of what you can see with hogs vis\n",
    "from IPython.display import IFrame\n",
    "IFrame(output_name, width=700, height=350)"
   ]
  },
  {
   "cell_type": "markdown",
   "metadata": {
    "deletable": true,
    "editable": true
   },
   "source": [
    "### Hogvis : all HOGs for a specific taxonomic range (ancestral genome)"
   ]
  },
  {
   "cell_type": "code",
   "execution_count": null,
   "metadata": {
    "collapsed": true,
    "deletable": true,
    "editable": true
   },
   "outputs": [],
   "source": [
    "#  Select a genome\n",
    "mammals = ham_analysis.get_ancestral_genome_by_name(\"Mammalia\")\n",
    "\n",
    "# Iterate over all its HOGs\n",
    "for hog in mammals.genes:\n",
    "    # and create the hogvis for each\n",
    "    ham_analysis.create_hog_visualisation(hog=hog,outfile=\"HOG-mammals{}.html\".format(hog.hog_id))"
   ]
  },
  {
   "cell_type": "markdown",
   "metadata": {
    "deletable": true,
    "editable": true
   },
   "source": [
    "<a id='tprofile'></a>\n",
    "## TREEPROFILE\n",
    "\n",
    "TreeProfile is a tool to visualise how the genes have evolved in terms of evolutionnary events alonge a phylogenetic tree (duplication, lost, gained).\n",
    "\n",
    "**ATTENTION: Rendering the tree profile picture requires the PyQt4 library to be installed. We provide in the documentation a section to help you to install it!**\n",
    "\n",
    "**Let's run the following portion of code to see and example with its description below:**  "
   ]
  },
  {
   "cell_type": "code",
   "execution_count": null,
   "metadata": {
    "collapsed": false,
    "deletable": true,
    "editable": true
   },
   "outputs": [],
   "source": [
    "treeprofile = ham_analysis.create_tree_profile(export_with_histogram=True, outfile=\"tp.png\");from IPython.display import Image;Image(filename='tp.png') "
   ]
  },
  {
   "cell_type": "markdown",
   "metadata": {
    "deletable": true,
    "editable": true
   },
   "source": [
    "TreeProfile is composed of :\n",
    "- **Species tree**: This is the reference taxonomy used by HAM.\n",
    "- **Internal node histogram**: Represent the proportion of genes at this level that are emerged from their ancestor in the parent genome by one of the 4 following types of evolutionary events: identicals (identical in terms of numbers, duplicated, lost at this level, gained at this level) . In additions, the \"Genes\" bar displays the total number of genes of a related genome.\n",
    "- **Legend**: Provides a description of the histogram bar and the scale."
   ]
  },
  {
   "cell_type": "markdown",
   "metadata": {
    "deletable": true,
    "editable": true
   },
   "source": [
    "### TreeProfile on the whole HAM genomic setup \n",
    "\n",
    "Severals options are available:\n",
    "- **outfile**: if specify the visualisation will be exporte as image and save in this file. The output file extension will define the format (.SVG, .PDF, .PNG).\n",
    "- **export_with_histogram**: If you don't want the histogram you can set this argument to False and raw text will be displayed instead of histogram.\n"
   ]
  },
  {
   "cell_type": "code",
   "execution_count": null,
   "metadata": {
    "collapsed": false,
    "deletable": true,
    "editable": true
   },
   "outputs": [],
   "source": [
    "# create the treeprofile object\n",
    "treeprofile = ham_analysis.create_tree_profile(export_with_histogram=True, outfile=\"tp.png\")\n",
    "\n",
    "#  This is just to display it here\n",
    "from IPython.display import Image\n",
    "Image(filename='tp.png') "
   ]
  },
  {
   "cell_type": "markdown",
   "metadata": {
    "deletable": true,
    "editable": true
   },
   "source": [
    "### TreeProfile for a specific HOG\n",
    "\n",
    "In addition to the previous parameters, if you provide a single HOG the treeprofile can be build only on using the information of that particular hog and will represent the evolutionary history of this HOG in terms of duplication, loss and identical genes accross each taxonomic range.\n"
   ]
  },
  {
   "cell_type": "code",
   "execution_count": null,
   "metadata": {
    "collapsed": false,
    "deletable": true,
    "editable": true
   },
   "outputs": [],
   "source": [
    "# select an HOG\n",
    "hog_3 =  ham_analysis.get_hog_by_id(3)\n",
    "\n",
    "# create the treeprofile object\n",
    "treeprofile_hog_3 = ham_analysis.create_tree_profile(hog=hog3, export_with_histogram=True, outfile=\"tph3.png\")\n",
    "\n",
    "#  This is just to display it here\n",
    "from IPython.display import Image\n",
    "Image(filename='tph3.png') "
   ]
  },
  {
   "cell_type": "code",
   "execution_count": null,
   "metadata": {
    "collapsed": true,
    "deletable": true,
    "editable": true
   },
   "outputs": [],
   "source": []
  },
  {
   "cell_type": "code",
   "execution_count": null,
   "metadata": {
    "collapsed": true,
    "deletable": true,
    "editable": true
   },
   "outputs": [],
   "source": []
  }
 ],
 "metadata": {
  "kernelspec": {
   "display_name": "Python 3",
   "language": "python",
   "name": "python3"
  },
  "language_info": {
   "codemirror_mode": {
    "name": "ipython",
    "version": 3
   },
   "file_extension": ".py",
   "mimetype": "text/x-python",
   "name": "python",
   "nbconvert_exporter": "python",
   "pygments_lexer": "ipython3",
   "version": "3.5.1"
  }
 },
 "nbformat": 4,
 "nbformat_minor": 2
}
